{
 "cells": [
  {
   "cell_type": "code",
   "execution_count": 50,
   "id": "af13a9af",
   "metadata": {},
   "outputs": [],
   "source": [
    "import pandas as pd\n",
    "df= pd.read_csv(r\"C:\\Users\\yitba\\Documents\\Statistical Learning\\pharmacy_tx.csv\")"
   ]
  },
  {
   "cell_type": "code",
   "execution_count": 51,
   "id": "2e6b9cdc",
   "metadata": {},
   "outputs": [
    {
     "data": {
      "text/html": [
       "<div>\n",
       "<style scoped>\n",
       "    .dataframe tbody tr th:only-of-type {\n",
       "        vertical-align: middle;\n",
       "    }\n",
       "\n",
       "    .dataframe tbody tr th {\n",
       "        vertical-align: top;\n",
       "    }\n",
       "\n",
       "    .dataframe thead th {\n",
       "        text-align: right;\n",
       "    }\n",
       "</style>\n",
       "<table border=\"1\" class=\"dataframe\">\n",
       "  <thead>\n",
       "    <tr style=\"text-align: right;\">\n",
       "      <th></th>\n",
       "      <th>tx_date</th>\n",
       "      <th>pharmacy</th>\n",
       "      <th>diagnosis</th>\n",
       "      <th>drug</th>\n",
       "      <th>bin</th>\n",
       "      <th>pcn</th>\n",
       "      <th>group</th>\n",
       "      <th>rejected</th>\n",
       "      <th>patient_pay</th>\n",
       "    </tr>\n",
       "  </thead>\n",
       "  <tbody>\n",
       "    <tr>\n",
       "      <th>0</th>\n",
       "      <td>2022-01-02</td>\n",
       "      <td>Pharmacy #6</td>\n",
       "      <td>G99.93</td>\n",
       "      <td>branded tanoclolol</td>\n",
       "      <td>725700</td>\n",
       "      <td>1UQC</td>\n",
       "      <td>NaN</td>\n",
       "      <td>False</td>\n",
       "      <td>13.39</td>\n",
       "    </tr>\n",
       "    <tr>\n",
       "      <th>1</th>\n",
       "      <td>2022-01-02</td>\n",
       "      <td>Pharmacy #42</td>\n",
       "      <td>U60.52</td>\n",
       "      <td>branded oxasoted</td>\n",
       "      <td>664344</td>\n",
       "      <td>NaN</td>\n",
       "      <td>52H8KH0F83K</td>\n",
       "      <td>False</td>\n",
       "      <td>7.02</td>\n",
       "    </tr>\n",
       "    <tr>\n",
       "      <th>2</th>\n",
       "      <td>2022-01-02</td>\n",
       "      <td>Pharmacy #37</td>\n",
       "      <td>Q85.91</td>\n",
       "      <td>branded cupitelol</td>\n",
       "      <td>725700</td>\n",
       "      <td>1UQC</td>\n",
       "      <td>NaN</td>\n",
       "      <td>False</td>\n",
       "      <td>13.39</td>\n",
       "    </tr>\n",
       "    <tr>\n",
       "      <th>3</th>\n",
       "      <td>2022-01-02</td>\n",
       "      <td>Pharmacy #30</td>\n",
       "      <td>U60.52</td>\n",
       "      <td>generic oxasoted</td>\n",
       "      <td>571569</td>\n",
       "      <td>KB38N</td>\n",
       "      <td>6BYJBW</td>\n",
       "      <td>False</td>\n",
       "      <td>10.84</td>\n",
       "    </tr>\n",
       "    <tr>\n",
       "      <th>4</th>\n",
       "      <td>2022-01-02</td>\n",
       "      <td>Pharmacy #18</td>\n",
       "      <td>N55.01</td>\n",
       "      <td>branded mamate</td>\n",
       "      <td>664344</td>\n",
       "      <td>NaN</td>\n",
       "      <td>ZX2QUWR</td>\n",
       "      <td>False</td>\n",
       "      <td>47.00</td>\n",
       "    </tr>\n",
       "  </tbody>\n",
       "</table>\n",
       "</div>"
      ],
      "text/plain": [
       "      tx_date      pharmacy diagnosis                drug     bin    pcn  \\\n",
       "0  2022-01-02   Pharmacy #6    G99.93  branded tanoclolol  725700   1UQC   \n",
       "1  2022-01-02  Pharmacy #42    U60.52    branded oxasoted  664344    NaN   \n",
       "2  2022-01-02  Pharmacy #37    Q85.91   branded cupitelol  725700   1UQC   \n",
       "3  2022-01-02  Pharmacy #30    U60.52    generic oxasoted  571569  KB38N   \n",
       "4  2022-01-02  Pharmacy #18    N55.01      branded mamate  664344    NaN   \n",
       "\n",
       "         group  rejected  patient_pay  \n",
       "0          NaN     False        13.39  \n",
       "1  52H8KH0F83K     False         7.02  \n",
       "2          NaN     False        13.39  \n",
       "3       6BYJBW     False        10.84  \n",
       "4      ZX2QUWR     False        47.00  "
      ]
     },
     "execution_count": 51,
     "metadata": {},
     "output_type": "execute_result"
    }
   ],
   "source": [
    "df.head()"
   ]
  },
  {
   "cell_type": "code",
   "execution_count": 52,
   "id": "821ad2e3",
   "metadata": {},
   "outputs": [
    {
     "name": "stdout",
     "output_type": "stream",
     "text": [
      "<class 'pandas.core.frame.DataFrame'>\n",
      "RangeIndex: 13910244 entries, 0 to 13910243\n",
      "Data columns (total 9 columns):\n",
      " #   Column       Dtype  \n",
      "---  ------       -----  \n",
      " 0   tx_date      object \n",
      " 1   pharmacy     object \n",
      " 2   diagnosis    object \n",
      " 3   drug         object \n",
      " 4   bin          int64  \n",
      " 5   pcn          object \n",
      " 6   group        object \n",
      " 7   rejected     bool   \n",
      " 8   patient_pay  float64\n",
      "dtypes: bool(1), float64(1), int64(1), object(6)\n",
      "memory usage: 862.3+ MB\n"
     ]
    }
   ],
   "source": [
    "df.info()"
   ]
  },
  {
   "cell_type": "code",
   "execution_count": 53,
   "id": "b2df6e60",
   "metadata": {},
   "outputs": [
    {
     "data": {
      "text/plain": [
       "tx_date              0\n",
       "pharmacy             0\n",
       "diagnosis            0\n",
       "drug                 0\n",
       "bin                  0\n",
       "pcn            3626961\n",
       "group          3909025\n",
       "rejected             0\n",
       "patient_pay          0\n",
       "dtype: int64"
      ]
     },
     "execution_count": 53,
     "metadata": {},
     "output_type": "execute_result"
    }
   ],
   "source": [
    "df.isnull().sum()"
   ]
  },
  {
   "cell_type": "code",
   "execution_count": 54,
   "id": "d7f1b60c",
   "metadata": {},
   "outputs": [
    {
     "data": {
      "text/plain": [
       "(13910244, 9)"
      ]
     },
     "execution_count": 54,
     "metadata": {},
     "output_type": "execute_result"
    }
   ],
   "source": [
    "df.shape"
   ]
  },
  {
   "cell_type": "code",
   "execution_count": 55,
   "id": "b75f5c58",
   "metadata": {},
   "outputs": [
    {
     "data": {
      "text/plain": [
       "False    12823384\n",
       "True      1086860\n",
       "Name: rejected, dtype: int64"
      ]
     },
     "execution_count": 55,
     "metadata": {},
     "output_type": "execute_result"
    }
   ],
   "source": [
    "df['rejected'].value_counts()"
   ]
  },
  {
   "cell_type": "markdown",
   "id": "0972cd9f",
   "metadata": {},
   "source": [
    "we have a highly imbalanced data as it related to claims being accepted or denied -- likely need resampling techniques if we plan on using this as a --"
   ]
  },
  {
   "cell_type": "code",
   "execution_count": 56,
   "id": "bcd6f91b",
   "metadata": {},
   "outputs": [
    {
     "data": {
      "text/plain": [
       "False    92.187 %\n",
       "True      7.813 %\n",
       "Name: rejected, dtype: object"
      ]
     },
     "execution_count": 56,
     "metadata": {},
     "output_type": "execute_result"
    }
   ],
   "source": [
    "df['rejected'].value_counts(normalize=True).mul(100).round(3).astype(str)+' %'"
   ]
  },
  {
   "cell_type": "code",
   "execution_count": 57,
   "id": "e02b0e5a",
   "metadata": {},
   "outputs": [],
   "source": [
    "from datetime import datetime\n",
    "df['tx_date']=pd.to_datetime(df['tx_date'])"
   ]
  },
  {
   "cell_type": "code",
   "execution_count": 58,
   "id": "84f51806",
   "metadata": {},
   "outputs": [
    {
     "data": {
      "text/plain": [
       "58"
      ]
     },
     "execution_count": 58,
     "metadata": {},
     "output_type": "execute_result"
    }
   ],
   "source": [
    "df['pharmacy'].nunique()"
   ]
  },
  {
   "cell_type": "code",
   "execution_count": 59,
   "id": "d8cea05e",
   "metadata": {},
   "outputs": [
    {
     "data": {
      "text/plain": [
       "Pharmacy #24    1.89 %\n",
       "Pharmacy #52    1.87 %\n",
       "Pharmacy #39    1.83 %\n",
       "Pharmacy #10    1.81 %\n",
       "Pharmacy #5     1.81 %\n",
       "Pharmacy #6      1.8 %\n",
       "Pharmacy #17     1.8 %\n",
       "Pharmacy #28     1.8 %\n",
       "Pharmacy #11    1.79 %\n",
       "Pharmacy #12    1.79 %\n",
       "Pharmacy #9     1.78 %\n",
       "Pharmacy #4     1.78 %\n",
       "Pharmacy #44    1.78 %\n",
       "Pharmacy #33    1.78 %\n",
       "Pharmacy #16    1.77 %\n",
       "Pharmacy #29    1.77 %\n",
       "Pharmacy #1     1.75 %\n",
       "Pharmacy #15    1.75 %\n",
       "Pharmacy #36    1.75 %\n",
       "Pharmacy #31    1.75 %\n",
       "Pharmacy #19    1.74 %\n",
       "Pharmacy #48    1.74 %\n",
       "Pharmacy #53    1.74 %\n",
       "Pharmacy #2     1.73 %\n",
       "Pharmacy #30    1.73 %\n",
       "Pharmacy #54    1.73 %\n",
       "Pharmacy #51    1.73 %\n",
       "Pharmacy #0     1.73 %\n",
       "Pharmacy #46    1.72 %\n",
       "Pharmacy #27    1.72 %\n",
       "Pharmacy #43    1.71 %\n",
       "Pharmacy #40    1.71 %\n",
       "Pharmacy #37    1.71 %\n",
       "Pharmacy #45    1.71 %\n",
       "Pharmacy #8     1.71 %\n",
       "Pharmacy #42    1.71 %\n",
       "Pharmacy #35    1.71 %\n",
       "Pharmacy #3     1.71 %\n",
       "Pharmacy #55     1.7 %\n",
       "Pharmacy #49     1.7 %\n",
       "Pharmacy #57     1.7 %\n",
       "Pharmacy #23    1.69 %\n",
       "Pharmacy #26    1.68 %\n",
       "Pharmacy #41    1.68 %\n",
       "Pharmacy #50    1.68 %\n",
       "Pharmacy #20    1.67 %\n",
       "Pharmacy #32    1.67 %\n",
       "Pharmacy #18    1.67 %\n",
       "Pharmacy #25    1.67 %\n",
       "Pharmacy #14    1.65 %\n",
       "Pharmacy #47    1.65 %\n",
       "Pharmacy #34    1.65 %\n",
       "Pharmacy #22    1.64 %\n",
       "Pharmacy #56    1.63 %\n",
       "Pharmacy #38    1.62 %\n",
       "Pharmacy #7     1.62 %\n",
       "Pharmacy #21    1.61 %\n",
       "Pharmacy #13    1.58 %\n",
       "Name: pharmacy, dtype: object"
      ]
     },
     "execution_count": 59,
     "metadata": {},
     "output_type": "execute_result"
    }
   ],
   "source": [
    "df['pharmacy'].value_counts(normalize=True).mul(100).round(2).astype(str)+' %'"
   ]
  },
  {
   "cell_type": "code",
   "execution_count": 60,
   "id": "62792f92",
   "metadata": {},
   "outputs": [
    {
     "data": {
      "text/plain": [
       "<AxesSubplot:title={'center':'Time Series'}, xlabel='tx_date', ylabel='patient_pay'>"
      ]
     },
     "execution_count": 60,
     "metadata": {},
     "output_type": "execute_result"
    },
    {
     "data": {
      "image/png": "[encoded data removed]",
      "text/plain": [
       "<Figure size 1080x432 with 1 Axes>"
      ]
     },
     "metadata": {
      "needs_background": "light"
     },
     "output_type": "display_data"
    }
   ],
   "source": [
    "import matplotlib.pyplot as plt\n",
    "import pandas as pd\n",
    "import plotly.express as px\n",
    "fig, ax1 = plt.subplots(figsize=(15, 6))\n",
    "df['patient_pay'].plot(xlabel=\"tx_date\", ylabel=\"patient_pay\", title=\"Time Series\",ax=ax1)\n"
   ]
  },
  {
   "cell_type": "code",
   "execution_count": 61,
   "id": "63d5bcd9",
   "metadata": {},
   "outputs": [
    {
     "data": {
      "text/plain": [
       "<AxesSubplot:title={'center':'Time Series'}, xlabel='tx_date', ylabel='patient_pay'>"
      ]
     },
     "execution_count": 61,
     "metadata": {},
     "output_type": "execute_result"
    },
    {
     "data": {
      "image/png": "[encoded data removed]",
      "text/plain": [
       "<Figure size 1080x432 with 1 Axes>"
      ]
     },
     "metadata": {
      "needs_background": "light"
     },
     "output_type": "display_data"
    }
   ],
   "source": [
    "fig, ax = plt.subplots(figsize=(15, 6))\n",
    "df['patient_pay'].rolling(168).mean().plot(xlabel=\"tx_date\", ylabel=\"patient_pay\", title=\"Time Series\",ax=ax)"
   ]
  },
  {
   "cell_type": "code",
   "execution_count": 62,
   "id": "b29d9b6c",
   "metadata": {},
   "outputs": [
    {
     "data": {
      "text/plain": [
       "<AxesSubplot:title={'center':'Time Series'}, xlabel='tx_date', ylabel='patient_pay'>"
      ]
     },
     "execution_count": 62,
     "metadata": {},
     "output_type": "execute_result"
    },
    {
     "data": {
      "image/png": "[encoded data removed]",
      "text/plain": [
       "<Figure size 1080x432 with 1 Axes>"
      ]
     },
     "metadata": {
      "needs_background": "light"
     },
     "output_type": "display_data"
    }
   ],
   "source": [
    "fig, ax = plt.subplots(figsize=(15, 6))\n",
    "df['patient_pay'].rolling(1000).mean().plot(xlabel=\"tx_date\", ylabel=\"patient_pay\", title=\"Time Series\",ax=ax)"
   ]
  },
  {
   "cell_type": "markdown",
   "id": "47490206",
   "metadata": {},
   "source": [
    "Is there a reason at the begining of the year more transcation are higher?"
   ]
  },
  {
   "cell_type": "code",
   "execution_count": 63,
   "id": "defed077",
   "metadata": {},
   "outputs": [
    {
     "data": {
      "text/html": [
       "<div>\n",
       "<style scoped>\n",
       "    .dataframe tbody tr th:only-of-type {\n",
       "        vertical-align: middle;\n",
       "    }\n",
       "\n",
       "    .dataframe tbody tr th {\n",
       "        vertical-align: top;\n",
       "    }\n",
       "\n",
       "    .dataframe thead th {\n",
       "        text-align: right;\n",
       "    }\n",
       "</style>\n",
       "<table border=\"1\" class=\"dataframe\">\n",
       "  <thead>\n",
       "    <tr style=\"text-align: right;\">\n",
       "      <th></th>\n",
       "      <th>bin</th>\n",
       "      <th>patient_pay</th>\n",
       "    </tr>\n",
       "  </thead>\n",
       "  <tbody>\n",
       "    <tr>\n",
       "      <th>count</th>\n",
       "      <td>13910244.00000</td>\n",
       "      <td>13910244.00000</td>\n",
       "    </tr>\n",
       "    <tr>\n",
       "      <th>mean</th>\n",
       "      <td>573227.83019</td>\n",
       "      <td>24.06044</td>\n",
       "    </tr>\n",
       "    <tr>\n",
       "      <th>std</th>\n",
       "      <td>205259.99792</td>\n",
       "      <td>39.52487</td>\n",
       "    </tr>\n",
       "    <tr>\n",
       "      <th>min</th>\n",
       "      <td>96934.00000</td>\n",
       "      <td>0.00000</td>\n",
       "    </tr>\n",
       "    <tr>\n",
       "      <th>25%</th>\n",
       "      <td>322463.00000</td>\n",
       "      <td>8.85000</td>\n",
       "    </tr>\n",
       "    <tr>\n",
       "      <th>50%</th>\n",
       "      <td>664344.00000</td>\n",
       "      <td>13.26000</td>\n",
       "    </tr>\n",
       "    <tr>\n",
       "      <th>75%</th>\n",
       "      <td>725700.00000</td>\n",
       "      <td>18.89000</td>\n",
       "    </tr>\n",
       "    <tr>\n",
       "      <th>max</th>\n",
       "      <td>956971.00000</td>\n",
       "      <td>557.93000</td>\n",
       "    </tr>\n",
       "  </tbody>\n",
       "</table>\n",
       "</div>"
      ],
      "text/plain": [
       "                 bin    patient_pay\n",
       "count 13910244.00000 13910244.00000\n",
       "mean    573227.83019       24.06044\n",
       "std     205259.99792       39.52487\n",
       "min      96934.00000        0.00000\n",
       "25%     322463.00000        8.85000\n",
       "50%     664344.00000       13.26000\n",
       "75%     725700.00000       18.89000\n",
       "max     956971.00000      557.93000"
      ]
     },
     "execution_count": 63,
     "metadata": {},
     "output_type": "execute_result"
    }
   ],
   "source": [
    "pd.set_option('display.float_format', lambda x: '%.5f' % x)\n",
    "df.describe()"
   ]
  },
  {
   "cell_type": "code",
   "execution_count": 64,
   "id": "983631cf",
   "metadata": {},
   "outputs": [
    {
     "data": {
      "text/plain": [
       "114"
      ]
     },
     "execution_count": 64,
     "metadata": {},
     "output_type": "execute_result"
    }
   ],
   "source": [
    "df['drug'].nunique()"
   ]
  },
  {
   "cell_type": "markdown",
   "id": "3f287659",
   "metadata": {},
   "source": [
    "may be we have to create two columns here -- 1 specifiying braded or generic -- and another one the drug itself\n",
    "\n",
    "-rejection or not based on branded vs not branded\n"
   ]
  },
  {
   "cell_type": "code",
   "execution_count": 65,
   "id": "466fd034",
   "metadata": {},
   "outputs": [
    {
     "data": {
      "text/plain": [
       "array(['branded tanoclolol', 'branded oxasoted', 'branded cupitelol',\n",
       "       'generic oxasoted', 'branded mamate', 'branded lalol',\n",
       "       'branded foxivelule', 'generic foxivelule',\n",
       "       'generic tafistitrisin', 'branded prazinib', 'generic momudobatin',\n",
       "       'branded gentipapavir', 'branded cibroniudosin',\n",
       "       'generic prazinib', 'branded rulfalol', 'generic keglusited',\n",
       "       'branded pucomalol', 'generic tanoclolol', 'generic pucomalol',\n",
       "       'generic cupitelol', 'branded glycontazepelol',\n",
       "       'branded glycogane', 'generic cicrochoric', 'generic rulfalol',\n",
       "       'branded satrade', 'branded tovane', 'generic suvinicuvir',\n",
       "       'branded semufolic', 'branded sorine', 'generic ratin',\n",
       "       'generic hozirol', 'generic glycontazepelol', 'branded dienulol',\n",
       "       'generic hivir', 'branded diadaric', 'branded mule',\n",
       "       'branded tocilic', 'generic cibroniudosin', 'branded gorol',\n",
       "       'generic tovane', 'generic simarol', 'generic gorol',\n",
       "       'generic vocopirin', 'branded cycloxasonol', 'generic bovirol',\n",
       "       'branded brede', 'generic brede', 'branded nusudaric',\n",
       "       'branded momudobatin', 'branded hidizuzunib', 'branded nephelilin',\n",
       "       'branded colifunene', 'branded antimab', 'generic lalol',\n",
       "       'branded plazamiglutic', 'branded vivafastat', 'generic dienulol',\n",
       "       'branded tugesutin', 'branded suvinicuvir', 'branded cicrochoric',\n",
       "       'branded ratin', 'branded hivir', 'branded pheromycin',\n",
       "       'branded isobrovelin', 'generic colifunene',\n",
       "       'branded flacelfatastat', 'branded choxestamenium',\n",
       "       'branded colade', 'branded dusin', 'branded tricatripride',\n",
       "       'branded fazipilin', 'branded hozirol', 'branded tocrocin',\n",
       "       'generic colade', 'generic sorine', 'branded glulune',\n",
       "       'branded fumiluric', 'branded bovirol', 'branded kediborin',\n",
       "       'branded ribosatharin', 'branded keglusited',\n",
       "       'branded genetramycicin', 'branded tafistitrisin',\n",
       "       'generic ribosatharin', 'branded todiadianic', 'generic glulune',\n",
       "       'branded spifistime', 'branded nicotilin', 'branded cuxirin',\n",
       "       'generic satrade', 'branded notin', 'generic cycloxasonol',\n",
       "       'branded simarol', 'branded gosate', 'branded monemodiase',\n",
       "       'branded debome', 'generic lixegimoric', 'branded sacrode',\n",
       "       'branded lixegimoric', 'branded vocopirin',\n",
       "       'branded prefluflomycin', 'generic thiostasteglume',\n",
       "       'branded flalurin', 'generic todiadianic',\n",
       "       'branded thiostasteglume', 'generic gohevitravir',\n",
       "       'branded sizubesin', 'branded lehydrome', 'generic fumiluric',\n",
       "       'branded masonic', 'branded devacin', 'branded pranic',\n",
       "       'branded gohevitravir', 'branded nenizevir'], dtype=object)"
      ]
     },
     "execution_count": 65,
     "metadata": {},
     "output_type": "execute_result"
    }
   ],
   "source": [
    "df['drug'].unique()"
   ]
  },
  {
   "cell_type": "code",
   "execution_count": 66,
   "id": "683d8cb3",
   "metadata": {},
   "outputs": [
    {
     "data": {
      "text/plain": [
       "<matplotlib.collections.PathCollection at 0x187a821f490>"
      ]
     },
     "execution_count": 66,
     "metadata": {},
     "output_type": "execute_result"
    },
    {
     "data": {
      "image/png": "[encoded data removed]",
      "text/plain": [
       "<Figure size 1080x576 with 1 Axes>"
      ]
     },
     "metadata": {
      "needs_background": "light"
     },
     "output_type": "display_data"
    }
   ],
   "source": [
    "fig=plt.figure(figsize=(15,8))\n",
    "\n",
    "plt.scatter(df['drug'], df['patient_pay'])"
   ]
  },
  {
   "cell_type": "code",
   "execution_count": 67,
   "id": "5bb84301",
   "metadata": {
    "scrolled": true
   },
   "outputs": [
    {
     "data": {
      "text/html": [
       "<div>\n",
       "<style scoped>\n",
       "    .dataframe tbody tr th:only-of-type {\n",
       "        vertical-align: middle;\n",
       "    }\n",
       "\n",
       "    .dataframe tbody tr th {\n",
       "        vertical-align: top;\n",
       "    }\n",
       "\n",
       "    .dataframe thead th {\n",
       "        text-align: right;\n",
       "    }\n",
       "</style>\n",
       "<table border=\"1\" class=\"dataframe\">\n",
       "  <thead>\n",
       "    <tr style=\"text-align: right;\">\n",
       "      <th></th>\n",
       "      <th>bin</th>\n",
       "      <th>patient_pay</th>\n",
       "    </tr>\n",
       "    <tr>\n",
       "      <th>rejected</th>\n",
       "      <th></th>\n",
       "      <th></th>\n",
       "    </tr>\n",
       "  </thead>\n",
       "  <tbody>\n",
       "    <tr>\n",
       "      <th>False</th>\n",
       "      <td>573854.05937</td>\n",
       "      <td>26.09971</td>\n",
       "    </tr>\n",
       "    <tr>\n",
       "      <th>True</th>\n",
       "      <td>565839.22698</td>\n",
       "      <td>0.00000</td>\n",
       "    </tr>\n",
       "  </tbody>\n",
       "</table>\n",
       "</div>"
      ],
      "text/plain": [
       "                  bin  patient_pay\n",
       "rejected                          \n",
       "False    573854.05937     26.09971\n",
       "True     565839.22698      0.00000"
      ]
     },
     "execution_count": 67,
     "metadata": {},
     "output_type": "execute_result"
    }
   ],
   "source": [
    "df.groupby(by='rejected').mean('patient_pay')"
   ]
  },
  {
   "cell_type": "code",
   "execution_count": 68,
   "id": "fa6a36dd",
   "metadata": {},
   "outputs": [
    {
     "data": {
      "text/html": [
       "<div>\n",
       "<style scoped>\n",
       "    .dataframe tbody tr th:only-of-type {\n",
       "        vertical-align: middle;\n",
       "    }\n",
       "\n",
       "    .dataframe tbody tr th {\n",
       "        vertical-align: top;\n",
       "    }\n",
       "\n",
       "    .dataframe thead th {\n",
       "        text-align: right;\n",
       "    }\n",
       "</style>\n",
       "<table border=\"1\" class=\"dataframe\">\n",
       "  <thead>\n",
       "    <tr style=\"text-align: right;\">\n",
       "      <th></th>\n",
       "      <th>bin</th>\n",
       "      <th>patient_pay</th>\n",
       "    </tr>\n",
       "    <tr>\n",
       "      <th>rejected</th>\n",
       "      <th></th>\n",
       "      <th></th>\n",
       "    </tr>\n",
       "  </thead>\n",
       "  <tbody>\n",
       "    <tr>\n",
       "      <th>False</th>\n",
       "      <td>573854.05937</td>\n",
       "      <td>26.09971</td>\n",
       "    </tr>\n",
       "    <tr>\n",
       "      <th>True</th>\n",
       "      <td>565839.22698</td>\n",
       "      <td>0.00000</td>\n",
       "    </tr>\n",
       "  </tbody>\n",
       "</table>\n",
       "</div>"
      ],
      "text/plain": [
       "                  bin  patient_pay\n",
       "rejected                          \n",
       "False    573854.05937     26.09971\n",
       "True     565839.22698      0.00000"
      ]
     },
     "execution_count": 68,
     "metadata": {},
     "output_type": "execute_result"
    }
   ],
   "source": [
    "# This just shows average price by rejection or not:\n",
    "df.groupby(by='rejected').mean('patient_pay')"
   ]
  },
  {
   "cell_type": "code",
   "execution_count": 69,
   "id": "e5692669",
   "metadata": {},
   "outputs": [
    {
     "data": {
      "text/html": [
       "<div>\n",
       "<style scoped>\n",
       "    .dataframe tbody tr th:only-of-type {\n",
       "        vertical-align: middle;\n",
       "    }\n",
       "\n",
       "    .dataframe tbody tr th {\n",
       "        vertical-align: top;\n",
       "    }\n",
       "\n",
       "    .dataframe thead th {\n",
       "        text-align: right;\n",
       "    }\n",
       "</style>\n",
       "<table border=\"1\" class=\"dataframe\">\n",
       "  <thead>\n",
       "    <tr style=\"text-align: right;\">\n",
       "      <th></th>\n",
       "      <th>tx_date</th>\n",
       "      <th>pharmacy</th>\n",
       "      <th>diagnosis</th>\n",
       "      <th>drug</th>\n",
       "      <th>bin</th>\n",
       "      <th>pcn</th>\n",
       "      <th>group</th>\n",
       "      <th>rejected</th>\n",
       "      <th>patient_pay</th>\n",
       "    </tr>\n",
       "  </thead>\n",
       "  <tbody>\n",
       "    <tr>\n",
       "      <th>0</th>\n",
       "      <td>2022-01-02</td>\n",
       "      <td>Pharmacy #6</td>\n",
       "      <td>G99.93</td>\n",
       "      <td>branded tanoclolol</td>\n",
       "      <td>725700</td>\n",
       "      <td>1UQC</td>\n",
       "      <td>NaN</td>\n",
       "      <td>False</td>\n",
       "      <td>13.39000</td>\n",
       "    </tr>\n",
       "    <tr>\n",
       "      <th>1</th>\n",
       "      <td>2022-01-02</td>\n",
       "      <td>Pharmacy #42</td>\n",
       "      <td>U60.52</td>\n",
       "      <td>branded oxasoted</td>\n",
       "      <td>664344</td>\n",
       "      <td>NaN</td>\n",
       "      <td>52H8KH0F83K</td>\n",
       "      <td>False</td>\n",
       "      <td>7.02000</td>\n",
       "    </tr>\n",
       "    <tr>\n",
       "      <th>2</th>\n",
       "      <td>2022-01-02</td>\n",
       "      <td>Pharmacy #37</td>\n",
       "      <td>Q85.91</td>\n",
       "      <td>branded cupitelol</td>\n",
       "      <td>725700</td>\n",
       "      <td>1UQC</td>\n",
       "      <td>NaN</td>\n",
       "      <td>False</td>\n",
       "      <td>13.39000</td>\n",
       "    </tr>\n",
       "    <tr>\n",
       "      <th>3</th>\n",
       "      <td>2022-01-02</td>\n",
       "      <td>Pharmacy #30</td>\n",
       "      <td>U60.52</td>\n",
       "      <td>generic oxasoted</td>\n",
       "      <td>571569</td>\n",
       "      <td>KB38N</td>\n",
       "      <td>6BYJBW</td>\n",
       "      <td>False</td>\n",
       "      <td>10.84000</td>\n",
       "    </tr>\n",
       "    <tr>\n",
       "      <th>4</th>\n",
       "      <td>2022-01-02</td>\n",
       "      <td>Pharmacy #18</td>\n",
       "      <td>N55.01</td>\n",
       "      <td>branded mamate</td>\n",
       "      <td>664344</td>\n",
       "      <td>NaN</td>\n",
       "      <td>ZX2QUWR</td>\n",
       "      <td>False</td>\n",
       "      <td>47.00000</td>\n",
       "    </tr>\n",
       "  </tbody>\n",
       "</table>\n",
       "</div>"
      ],
      "text/plain": [
       "     tx_date      pharmacy diagnosis                drug     bin    pcn  \\\n",
       "0 2022-01-02   Pharmacy #6    G99.93  branded tanoclolol  725700   1UQC   \n",
       "1 2022-01-02  Pharmacy #42    U60.52    branded oxasoted  664344    NaN   \n",
       "2 2022-01-02  Pharmacy #37    Q85.91   branded cupitelol  725700   1UQC   \n",
       "3 2022-01-02  Pharmacy #30    U60.52    generic oxasoted  571569  KB38N   \n",
       "4 2022-01-02  Pharmacy #18    N55.01      branded mamate  664344    NaN   \n",
       "\n",
       "         group  rejected  patient_pay  \n",
       "0          NaN     False     13.39000  \n",
       "1  52H8KH0F83K     False      7.02000  \n",
       "2          NaN     False     13.39000  \n",
       "3       6BYJBW     False     10.84000  \n",
       "4      ZX2QUWR     False     47.00000  "
      ]
     },
     "execution_count": 69,
     "metadata": {},
     "output_type": "execute_result"
    }
   ],
   "source": [
    "df.head()"
   ]
  },
  {
   "cell_type": "code",
   "execution_count": 70,
   "id": "66ca2829",
   "metadata": {},
   "outputs": [],
   "source": [
    "#Separate the drug column to two columns\n",
    "df[[\"drug_type\",\"drug_name\"]] =df['drug'].str.split(\" \",expand=True)"
   ]
  },
  {
   "cell_type": "code",
   "execution_count": 71,
   "id": "abfeeffc",
   "metadata": {},
   "outputs": [],
   "source": [
    "#Separate the diagnonsis column column to two columns\n",
    "df[[\"diagnosis_broad\",\"diagnosis_specific\"]] =df['diagnosis'].str.split(\".\",expand=True)"
   ]
  },
  {
   "cell_type": "code",
   "execution_count": 72,
   "id": "3bcbbbfb",
   "metadata": {},
   "outputs": [
    {
     "data": {
      "text/html": [
       "<div>\n",
       "<style scoped>\n",
       "    .dataframe tbody tr th:only-of-type {\n",
       "        vertical-align: middle;\n",
       "    }\n",
       "\n",
       "    .dataframe tbody tr th {\n",
       "        vertical-align: top;\n",
       "    }\n",
       "\n",
       "    .dataframe thead th {\n",
       "        text-align: right;\n",
       "    }\n",
       "</style>\n",
       "<table border=\"1\" class=\"dataframe\">\n",
       "  <thead>\n",
       "    <tr style=\"text-align: right;\">\n",
       "      <th></th>\n",
       "      <th>tx_date</th>\n",
       "      <th>pharmacy</th>\n",
       "      <th>diagnosis</th>\n",
       "      <th>drug</th>\n",
       "      <th>bin</th>\n",
       "      <th>pcn</th>\n",
       "      <th>group</th>\n",
       "      <th>rejected</th>\n",
       "      <th>patient_pay</th>\n",
       "      <th>drug_type</th>\n",
       "      <th>drug_name</th>\n",
       "      <th>diagnosis_broad</th>\n",
       "      <th>diagnosis_specific</th>\n",
       "    </tr>\n",
       "  </thead>\n",
       "  <tbody>\n",
       "    <tr>\n",
       "      <th>0</th>\n",
       "      <td>2022-01-02</td>\n",
       "      <td>Pharmacy #6</td>\n",
       "      <td>G99.93</td>\n",
       "      <td>branded tanoclolol</td>\n",
       "      <td>725700</td>\n",
       "      <td>1UQC</td>\n",
       "      <td>NaN</td>\n",
       "      <td>False</td>\n",
       "      <td>13.39000</td>\n",
       "      <td>branded</td>\n",
       "      <td>tanoclolol</td>\n",
       "      <td>G99</td>\n",
       "      <td>93</td>\n",
       "    </tr>\n",
       "    <tr>\n",
       "      <th>1</th>\n",
       "      <td>2022-01-02</td>\n",
       "      <td>Pharmacy #42</td>\n",
       "      <td>U60.52</td>\n",
       "      <td>branded oxasoted</td>\n",
       "      <td>664344</td>\n",
       "      <td>NaN</td>\n",
       "      <td>52H8KH0F83K</td>\n",
       "      <td>False</td>\n",
       "      <td>7.02000</td>\n",
       "      <td>branded</td>\n",
       "      <td>oxasoted</td>\n",
       "      <td>U60</td>\n",
       "      <td>52</td>\n",
       "    </tr>\n",
       "    <tr>\n",
       "      <th>2</th>\n",
       "      <td>2022-01-02</td>\n",
       "      <td>Pharmacy #37</td>\n",
       "      <td>Q85.91</td>\n",
       "      <td>branded cupitelol</td>\n",
       "      <td>725700</td>\n",
       "      <td>1UQC</td>\n",
       "      <td>NaN</td>\n",
       "      <td>False</td>\n",
       "      <td>13.39000</td>\n",
       "      <td>branded</td>\n",
       "      <td>cupitelol</td>\n",
       "      <td>Q85</td>\n",
       "      <td>91</td>\n",
       "    </tr>\n",
       "    <tr>\n",
       "      <th>3</th>\n",
       "      <td>2022-01-02</td>\n",
       "      <td>Pharmacy #30</td>\n",
       "      <td>U60.52</td>\n",
       "      <td>generic oxasoted</td>\n",
       "      <td>571569</td>\n",
       "      <td>KB38N</td>\n",
       "      <td>6BYJBW</td>\n",
       "      <td>False</td>\n",
       "      <td>10.84000</td>\n",
       "      <td>generic</td>\n",
       "      <td>oxasoted</td>\n",
       "      <td>U60</td>\n",
       "      <td>52</td>\n",
       "    </tr>\n",
       "    <tr>\n",
       "      <th>4</th>\n",
       "      <td>2022-01-02</td>\n",
       "      <td>Pharmacy #18</td>\n",
       "      <td>N55.01</td>\n",
       "      <td>branded mamate</td>\n",
       "      <td>664344</td>\n",
       "      <td>NaN</td>\n",
       "      <td>ZX2QUWR</td>\n",
       "      <td>False</td>\n",
       "      <td>47.00000</td>\n",
       "      <td>branded</td>\n",
       "      <td>mamate</td>\n",
       "      <td>N55</td>\n",
       "      <td>01</td>\n",
       "    </tr>\n",
       "  </tbody>\n",
       "</table>\n",
       "</div>"
      ],
      "text/plain": [
       "     tx_date      pharmacy diagnosis                drug     bin    pcn  \\\n",
       "0 2022-01-02   Pharmacy #6    G99.93  branded tanoclolol  725700   1UQC   \n",
       "1 2022-01-02  Pharmacy #42    U60.52    branded oxasoted  664344    NaN   \n",
       "2 2022-01-02  Pharmacy #37    Q85.91   branded cupitelol  725700   1UQC   \n",
       "3 2022-01-02  Pharmacy #30    U60.52    generic oxasoted  571569  KB38N   \n",
       "4 2022-01-02  Pharmacy #18    N55.01      branded mamate  664344    NaN   \n",
       "\n",
       "         group  rejected  patient_pay drug_type   drug_name diagnosis_broad  \\\n",
       "0          NaN     False     13.39000   branded  tanoclolol             G99   \n",
       "1  52H8KH0F83K     False      7.02000   branded    oxasoted             U60   \n",
       "2          NaN     False     13.39000   branded   cupitelol             Q85   \n",
       "3       6BYJBW     False     10.84000   generic    oxasoted             U60   \n",
       "4      ZX2QUWR     False     47.00000   branded      mamate             N55   \n",
       "\n",
       "  diagnosis_specific  \n",
       "0                 93  \n",
       "1                 52  \n",
       "2                 91  \n",
       "3                 52  \n",
       "4                 01  "
      ]
     },
     "execution_count": 72,
     "metadata": {},
     "output_type": "execute_result"
    }
   ],
   "source": [
    "df.head()"
   ]
  },
  {
   "cell_type": "code",
   "execution_count": 73,
   "id": "a63470b4",
   "metadata": {},
   "outputs": [
    {
     "data": {
      "text/plain": [
       "branded   0.62822\n",
       "generic   0.37178\n",
       "Name: drug_type, dtype: float64"
      ]
     },
     "execution_count": 73,
     "metadata": {},
     "output_type": "execute_result"
    }
   ],
   "source": [
    "df['drug_type'].value_counts(normalize=True)"
   ]
  },
  {
   "cell_type": "code",
   "execution_count": 74,
   "id": "5778af87",
   "metadata": {},
   "outputs": [
    {
     "data": {
      "text/plain": [
       "prazinib       0.12306\n",
       "rulfalol       0.05165\n",
       "pucomalol      0.04000\n",
       "mule           0.03906\n",
       "tanoclolol     0.03690\n",
       "                 ...  \n",
       "dusin          0.00069\n",
       "sizubesin      0.00058\n",
       "gohevitravir   0.00030\n",
       "lehydrome      0.00018\n",
       "nenizevir      0.00008\n",
       "Name: drug_name, Length: 77, dtype: float64"
      ]
     },
     "execution_count": 74,
     "metadata": {},
     "output_type": "execute_result"
    }
   ],
   "source": [
    "df['drug_name'].value_counts(normalize=True)"
   ]
  },
  {
   "cell_type": "markdown",
   "id": "f675c81a",
   "metadata": {},
   "source": [
    "There are 77 drugs in the 14 million transactions. "
   ]
  },
  {
   "cell_type": "code",
   "execution_count": 75,
   "id": "5780a4d2",
   "metadata": {},
   "outputs": [
    {
     "data": {
      "text/html": [
       "<div>\n",
       "<style scoped>\n",
       "    .dataframe tbody tr th:only-of-type {\n",
       "        vertical-align: middle;\n",
       "    }\n",
       "\n",
       "    .dataframe tbody tr th {\n",
       "        vertical-align: top;\n",
       "    }\n",
       "\n",
       "    .dataframe thead th {\n",
       "        text-align: right;\n",
       "    }\n",
       "</style>\n",
       "<table border=\"1\" class=\"dataframe\">\n",
       "  <thead>\n",
       "    <tr style=\"text-align: right;\">\n",
       "      <th></th>\n",
       "      <th>drug_type</th>\n",
       "    </tr>\n",
       "    <tr>\n",
       "      <th>drug_name</th>\n",
       "      <th></th>\n",
       "    </tr>\n",
       "  </thead>\n",
       "  <tbody>\n",
       "    <tr>\n",
       "      <th>antimab</th>\n",
       "      <td>304423</td>\n",
       "    </tr>\n",
       "    <tr>\n",
       "      <th>bovirol</th>\n",
       "      <td>210460</td>\n",
       "    </tr>\n",
       "    <tr>\n",
       "      <th>brede</th>\n",
       "      <td>120941</td>\n",
       "    </tr>\n",
       "    <tr>\n",
       "      <th>choxestamenium</th>\n",
       "      <td>111432</td>\n",
       "    </tr>\n",
       "    <tr>\n",
       "      <th>cibroniudosin</th>\n",
       "      <td>184287</td>\n",
       "    </tr>\n",
       "    <tr>\n",
       "      <th>...</th>\n",
       "      <td>...</td>\n",
       "    </tr>\n",
       "    <tr>\n",
       "      <th>tovane</th>\n",
       "      <td>317061</td>\n",
       "    </tr>\n",
       "    <tr>\n",
       "      <th>tricatripride</th>\n",
       "      <td>40865</td>\n",
       "    </tr>\n",
       "    <tr>\n",
       "      <th>tugesutin</th>\n",
       "      <td>105699</td>\n",
       "    </tr>\n",
       "    <tr>\n",
       "      <th>vivafastat</th>\n",
       "      <td>55543</td>\n",
       "    </tr>\n",
       "    <tr>\n",
       "      <th>vocopirin</th>\n",
       "      <td>142294</td>\n",
       "    </tr>\n",
       "  </tbody>\n",
       "</table>\n",
       "<p>77 rows × 1 columns</p>\n",
       "</div>"
      ],
      "text/plain": [
       "                drug_type\n",
       "drug_name                \n",
       "antimab            304423\n",
       "bovirol            210460\n",
       "brede              120941\n",
       "choxestamenium     111432\n",
       "cibroniudosin      184287\n",
       "...                   ...\n",
       "tovane             317061\n",
       "tricatripride       40865\n",
       "tugesutin          105699\n",
       "vivafastat          55543\n",
       "vocopirin          142294\n",
       "\n",
       "[77 rows x 1 columns]"
      ]
     },
     "execution_count": 75,
     "metadata": {},
     "output_type": "execute_result"
    }
   ],
   "source": [
    "(df.groupby('drug_name')['drug_type'].count()).to_frame()\n",
    "\n",
    "# (df.groupby('drug_type')['drug_name'].count()).to_frame()"
   ]
  },
  {
   "cell_type": "code",
   "execution_count": 76,
   "id": "837295ca",
   "metadata": {},
   "outputs": [
    {
     "data": {
      "text/plain": [
       "False   0.92187\n",
       "True    0.07813\n",
       "Name: rejected, dtype: float64"
      ]
     },
     "execution_count": 76,
     "metadata": {},
     "output_type": "execute_result"
    }
   ],
   "source": [
    "df['rejected'].value_counts(normalize=True)"
   ]
  },
  {
   "cell_type": "code",
   "execution_count": 77,
   "id": "174a4c97",
   "metadata": {},
   "outputs": [
    {
     "data": {
      "text/plain": [
       "tx_date                     0\n",
       "pharmacy                    0\n",
       "diagnosis                   0\n",
       "drug                        0\n",
       "bin                         0\n",
       "pcn                   3626961\n",
       "group                 3909025\n",
       "rejected                    0\n",
       "patient_pay                 0\n",
       "drug_type                   0\n",
       "drug_name                   0\n",
       "diagnosis_broad             0\n",
       "diagnosis_specific          0\n",
       "dtype: int64"
      ]
     },
     "execution_count": 77,
     "metadata": {},
     "output_type": "execute_result"
    }
   ],
   "source": [
    "df.isna().sum()"
   ]
  },
  {
   "cell_type": "markdown",
   "id": "ac6399cc",
   "metadata": {},
   "source": [
    "### pcn and group?\n",
    "what are pcn and group -- How to deal with the missing values?"
   ]
  },
  {
   "cell_type": "code",
   "execution_count": null,
   "id": "4d05d98d",
   "metadata": {},
   "outputs": [],
   "source": []
  },
  {
   "cell_type": "markdown",
   "id": "cda729e1",
   "metadata": {},
   "source": [
    "Is there a relationship between medication being branded or not in leading Rejection and likelihood of rejection. "
   ]
  },
  {
   "cell_type": "code",
   "execution_count": 78,
   "id": "6bf90c88",
   "metadata": {},
   "outputs": [
    {
     "data": {
      "text/html": [
       "<div>\n",
       "<style scoped>\n",
       "    .dataframe tbody tr th:only-of-type {\n",
       "        vertical-align: middle;\n",
       "    }\n",
       "\n",
       "    .dataframe tbody tr th {\n",
       "        vertical-align: top;\n",
       "    }\n",
       "\n",
       "    .dataframe thead th {\n",
       "        text-align: right;\n",
       "    }\n",
       "</style>\n",
       "<table border=\"1\" class=\"dataframe\">\n",
       "  <thead>\n",
       "    <tr style=\"text-align: right;\">\n",
       "      <th></th>\n",
       "      <th>drug_type</th>\n",
       "      <th>rejected</th>\n",
       "      <th>frequency</th>\n",
       "    </tr>\n",
       "  </thead>\n",
       "  <tbody>\n",
       "    <tr>\n",
       "      <th>0</th>\n",
       "      <td>branded</td>\n",
       "      <td>False</td>\n",
       "      <td>0.87831</td>\n",
       "    </tr>\n",
       "    <tr>\n",
       "      <th>1</th>\n",
       "      <td>branded</td>\n",
       "      <td>True</td>\n",
       "      <td>0.12169</td>\n",
       "    </tr>\n",
       "    <tr>\n",
       "      <th>2</th>\n",
       "      <td>generic</td>\n",
       "      <td>False</td>\n",
       "      <td>0.99546</td>\n",
       "    </tr>\n",
       "    <tr>\n",
       "      <th>3</th>\n",
       "      <td>generic</td>\n",
       "      <td>True</td>\n",
       "      <td>0.00454</td>\n",
       "    </tr>\n",
       "  </tbody>\n",
       "</table>\n",
       "</div>"
      ],
      "text/plain": [
       "  drug_type  rejected  frequency\n",
       "0   branded     False    0.87831\n",
       "1   branded      True    0.12169\n",
       "2   generic     False    0.99546\n",
       "3   generic      True    0.00454"
      ]
     },
     "execution_count": 78,
     "metadata": {},
     "output_type": "execute_result"
    }
   ],
   "source": [
    "df['rejected'].groupby(df['drug_type']) \\\n",
    ".value_counts(normalize=True). \\\n",
    "rename('frequency').to_frame() \\\n",
    ".reset_index()"
   ]
  },
  {
   "cell_type": "markdown",
   "id": "bead8cd9",
   "metadata": {},
   "source": [
    "Is rejection likely for certain types of diagnosis?"
   ]
  },
  {
   "cell_type": "code",
   "execution_count": 79,
   "id": "7acb2442",
   "metadata": {
    "scrolled": true
   },
   "outputs": [
    {
     "data": {
      "text/plain": [
       "I68    2193157\n",
       "G99    1386006\n",
       "K32    1292235\n",
       "Q85     775390\n",
       "W50     718798\n",
       "H36     679188\n",
       "U60     530884\n",
       "P07     491770\n",
       "G51     435661\n",
       "Q72     433350\n",
       "U27     426311\n",
       "K87     384569\n",
       "M42     374057\n",
       "Z66     318451\n",
       "H60     216087\n",
       "U61     211261\n",
       "M06     166890\n",
       "I38     162333\n",
       "Y51     147379\n",
       "C98     145635\n",
       "Name: diagnosis_broad, dtype: int64"
      ]
     },
     "execution_count": 79,
     "metadata": {},
     "output_type": "execute_result"
    }
   ],
   "source": [
    "df['diagnosis_broad'].value_counts().head(20)"
   ]
  },
  {
   "cell_type": "code",
   "execution_count": 80,
   "id": "223b7ab3",
   "metadata": {
    "scrolled": true
   },
   "outputs": [
    {
     "data": {
      "text/plain": [
       "27    2224477\n",
       "87    1395228\n",
       "86    1394759\n",
       "93    1386641\n",
       "91     784434\n",
       "       ...   \n",
       "26        108\n",
       "98         82\n",
       "64         36\n",
       "46         12\n",
       "04         12\n",
       "Name: diagnosis_specific, Length: 75, dtype: int64"
      ]
     },
     "execution_count": 80,
     "metadata": {},
     "output_type": "execute_result"
    }
   ],
   "source": [
    "df['diagnosis_specific'].value_counts()"
   ]
  },
  {
   "cell_type": "markdown",
   "id": "8af60331",
   "metadata": {},
   "source": [
    "#### We have super highly imbalanced catagorical variables. --for diagnosis\n",
    "\n",
    "How do we address those? -- Combining some of the diagnosis possibly? -- Are there model performance issues that could come up from having catagorixal variables that are too few?"
   ]
  },
  {
   "cell_type": "code",
   "execution_count": 81,
   "id": "df10a4fb",
   "metadata": {},
   "outputs": [
    {
     "data": {
      "text/html": [
       "<div>\n",
       "<style scoped>\n",
       "    .dataframe tbody tr th:only-of-type {\n",
       "        vertical-align: middle;\n",
       "    }\n",
       "\n",
       "    .dataframe tbody tr th {\n",
       "        vertical-align: top;\n",
       "    }\n",
       "\n",
       "    .dataframe thead th {\n",
       "        text-align: right;\n",
       "    }\n",
       "</style>\n",
       "<table border=\"1\" class=\"dataframe\">\n",
       "  <thead>\n",
       "    <tr style=\"text-align: right;\">\n",
       "      <th></th>\n",
       "      <th></th>\n",
       "      <th>rejected</th>\n",
       "    </tr>\n",
       "    <tr>\n",
       "      <th>diagnosis_broad</th>\n",
       "      <th>rejected</th>\n",
       "      <th></th>\n",
       "    </tr>\n",
       "  </thead>\n",
       "  <tbody>\n",
       "    <tr>\n",
       "      <th>A00</th>\n",
       "      <th>False</th>\n",
       "      <td>1.00000</td>\n",
       "    </tr>\n",
       "    <tr>\n",
       "      <th rowspan=\"2\" valign=\"top\">A13</th>\n",
       "      <th>False</th>\n",
       "      <td>0.93861</td>\n",
       "    </tr>\n",
       "    <tr>\n",
       "      <th>True</th>\n",
       "      <td>0.06139</td>\n",
       "    </tr>\n",
       "    <tr>\n",
       "      <th rowspan=\"2\" valign=\"top\">A14</th>\n",
       "      <th>False</th>\n",
       "      <td>0.82997</td>\n",
       "    </tr>\n",
       "    <tr>\n",
       "      <th>True</th>\n",
       "      <td>0.17003</td>\n",
       "    </tr>\n",
       "    <tr>\n",
       "      <th>...</th>\n",
       "      <th>...</th>\n",
       "      <td>...</td>\n",
       "    </tr>\n",
       "    <tr>\n",
       "      <th>Z66</th>\n",
       "      <th>True</th>\n",
       "      <td>0.30435</td>\n",
       "    </tr>\n",
       "    <tr>\n",
       "      <th rowspan=\"2\" valign=\"top\">Z95</th>\n",
       "      <th>False</th>\n",
       "      <td>0.92593</td>\n",
       "    </tr>\n",
       "    <tr>\n",
       "      <th>True</th>\n",
       "      <td>0.07407</td>\n",
       "    </tr>\n",
       "    <tr>\n",
       "      <th rowspan=\"2\" valign=\"top\">Z98</th>\n",
       "      <th>False</th>\n",
       "      <td>0.95073</td>\n",
       "    </tr>\n",
       "    <tr>\n",
       "      <th>True</th>\n",
       "      <td>0.04927</td>\n",
       "    </tr>\n",
       "  </tbody>\n",
       "</table>\n",
       "<p>247 rows × 1 columns</p>\n",
       "</div>"
      ],
      "text/plain": [
       "                          rejected\n",
       "diagnosis_broad rejected          \n",
       "A00             False      1.00000\n",
       "A13             False      0.93861\n",
       "                True       0.06139\n",
       "A14             False      0.82997\n",
       "                True       0.17003\n",
       "...                            ...\n",
       "Z66             True       0.30435\n",
       "Z95             False      0.92593\n",
       "                True       0.07407\n",
       "Z98             False      0.95073\n",
       "                True       0.04927\n",
       "\n",
       "[247 rows x 1 columns]"
      ]
     },
     "execution_count": 81,
     "metadata": {},
     "output_type": "execute_result"
    }
   ],
   "source": [
    "df['rejected'].groupby(df['diagnosis_broad']) \\\n",
    ".value_counts(normalize=True). \\\n",
    "to_frame() "
   ]
  },
  {
   "cell_type": "code",
   "execution_count": 82,
   "id": "b21a0128",
   "metadata": {},
   "outputs": [
    {
     "data": {
      "text/html": [
       "<div>\n",
       "<style scoped>\n",
       "    .dataframe tbody tr th:only-of-type {\n",
       "        vertical-align: middle;\n",
       "    }\n",
       "\n",
       "    .dataframe tbody tr th {\n",
       "        vertical-align: top;\n",
       "    }\n",
       "\n",
       "    .dataframe thead th {\n",
       "        text-align: right;\n",
       "    }\n",
       "</style>\n",
       "<table border=\"1\" class=\"dataframe\">\n",
       "  <thead>\n",
       "    <tr style=\"text-align: right;\">\n",
       "      <th></th>\n",
       "      <th>diagnosis_broad</th>\n",
       "      <th>rejected</th>\n",
       "      <th>frequency</th>\n",
       "    </tr>\n",
       "  </thead>\n",
       "  <tbody>\n",
       "    <tr>\n",
       "      <th>0</th>\n",
       "      <td>A00</td>\n",
       "      <td>False</td>\n",
       "      <td>1.00000</td>\n",
       "    </tr>\n",
       "    <tr>\n",
       "      <th>1</th>\n",
       "      <td>A13</td>\n",
       "      <td>False</td>\n",
       "      <td>0.93861</td>\n",
       "    </tr>\n",
       "    <tr>\n",
       "      <th>2</th>\n",
       "      <td>A13</td>\n",
       "      <td>True</td>\n",
       "      <td>0.06139</td>\n",
       "    </tr>\n",
       "    <tr>\n",
       "      <th>3</th>\n",
       "      <td>A14</td>\n",
       "      <td>False</td>\n",
       "      <td>0.82997</td>\n",
       "    </tr>\n",
       "    <tr>\n",
       "      <th>4</th>\n",
       "      <td>A14</td>\n",
       "      <td>True</td>\n",
       "      <td>0.17003</td>\n",
       "    </tr>\n",
       "    <tr>\n",
       "      <th>5</th>\n",
       "      <td>A22</td>\n",
       "      <td>False</td>\n",
       "      <td>0.75000</td>\n",
       "    </tr>\n",
       "    <tr>\n",
       "      <th>6</th>\n",
       "      <td>A22</td>\n",
       "      <td>True</td>\n",
       "      <td>0.25000</td>\n",
       "    </tr>\n",
       "    <tr>\n",
       "      <th>7</th>\n",
       "      <td>A45</td>\n",
       "      <td>False</td>\n",
       "      <td>0.92240</td>\n",
       "    </tr>\n",
       "    <tr>\n",
       "      <th>8</th>\n",
       "      <td>A45</td>\n",
       "      <td>True</td>\n",
       "      <td>0.07760</td>\n",
       "    </tr>\n",
       "    <tr>\n",
       "      <th>9</th>\n",
       "      <td>B03</td>\n",
       "      <td>False</td>\n",
       "      <td>0.89198</td>\n",
       "    </tr>\n",
       "  </tbody>\n",
       "</table>\n",
       "</div>"
      ],
      "text/plain": [
       "  diagnosis_broad  rejected  frequency\n",
       "0             A00     False    1.00000\n",
       "1             A13     False    0.93861\n",
       "2             A13      True    0.06139\n",
       "3             A14     False    0.82997\n",
       "4             A14      True    0.17003\n",
       "5             A22     False    0.75000\n",
       "6             A22      True    0.25000\n",
       "7             A45     False    0.92240\n",
       "8             A45      True    0.07760\n",
       "9             B03     False    0.89198"
      ]
     },
     "execution_count": 82,
     "metadata": {},
     "output_type": "execute_result"
    }
   ],
   "source": [
    "df['rejected'].groupby(df['diagnosis_broad']) \\\n",
    ".value_counts(normalize=True). \\\n",
    "rename('frequency').to_frame() \\\n",
    ".reset_index().head(10)"
   ]
  },
  {
   "cell_type": "markdown",
   "id": "b736ac27",
   "metadata": {},
   "source": [
    "It seems like A00 diagnosis always leads to full accetance. "
   ]
  },
  {
   "cell_type": "markdown",
   "id": "5925358c",
   "metadata": {},
   "source": [
    "-- diagnosis specific should be considered with the broader one---"
   ]
  },
  {
   "cell_type": "code",
   "execution_count": 83,
   "id": "ca7409b2",
   "metadata": {},
   "outputs": [
    {
     "data": {
      "text/html": [
       "<div>\n",
       "<style scoped>\n",
       "    .dataframe tbody tr th:only-of-type {\n",
       "        vertical-align: middle;\n",
       "    }\n",
       "\n",
       "    .dataframe tbody tr th {\n",
       "        vertical-align: top;\n",
       "    }\n",
       "\n",
       "    .dataframe thead th {\n",
       "        text-align: right;\n",
       "    }\n",
       "</style>\n",
       "<table border=\"1\" class=\"dataframe\">\n",
       "  <thead>\n",
       "    <tr style=\"text-align: right;\">\n",
       "      <th></th>\n",
       "      <th>diagnosis</th>\n",
       "      <th>rejected</th>\n",
       "      <th>frequency</th>\n",
       "    </tr>\n",
       "  </thead>\n",
       "  <tbody>\n",
       "    <tr>\n",
       "      <th>235</th>\n",
       "      <td>Y08.66</td>\n",
       "      <td>True</td>\n",
       "      <td>0.16667</td>\n",
       "    </tr>\n",
       "    <tr>\n",
       "      <th>236</th>\n",
       "      <td>Y11.84</td>\n",
       "      <td>False</td>\n",
       "      <td>1.00000</td>\n",
       "    </tr>\n",
       "    <tr>\n",
       "      <th>237</th>\n",
       "      <td>Y51.55</td>\n",
       "      <td>False</td>\n",
       "      <td>0.90618</td>\n",
       "    </tr>\n",
       "    <tr>\n",
       "      <th>238</th>\n",
       "      <td>Y51.55</td>\n",
       "      <td>True</td>\n",
       "      <td>0.09382</td>\n",
       "    </tr>\n",
       "    <tr>\n",
       "      <th>239</th>\n",
       "      <td>Y97.47</td>\n",
       "      <td>False</td>\n",
       "      <td>0.88876</td>\n",
       "    </tr>\n",
       "    <tr>\n",
       "      <th>240</th>\n",
       "      <td>Y97.47</td>\n",
       "      <td>True</td>\n",
       "      <td>0.11124</td>\n",
       "    </tr>\n",
       "    <tr>\n",
       "      <th>241</th>\n",
       "      <td>Z04.98</td>\n",
       "      <td>False</td>\n",
       "      <td>0.93478</td>\n",
       "    </tr>\n",
       "    <tr>\n",
       "      <th>242</th>\n",
       "      <td>Z04.98</td>\n",
       "      <td>True</td>\n",
       "      <td>0.06522</td>\n",
       "    </tr>\n",
       "    <tr>\n",
       "      <th>243</th>\n",
       "      <td>Z20.23</td>\n",
       "      <td>False</td>\n",
       "      <td>0.67788</td>\n",
       "    </tr>\n",
       "    <tr>\n",
       "      <th>244</th>\n",
       "      <td>Z20.23</td>\n",
       "      <td>True</td>\n",
       "      <td>0.32212</td>\n",
       "    </tr>\n",
       "    <tr>\n",
       "      <th>245</th>\n",
       "      <td>Z25.06</td>\n",
       "      <td>False</td>\n",
       "      <td>0.73045</td>\n",
       "    </tr>\n",
       "    <tr>\n",
       "      <th>246</th>\n",
       "      <td>Z25.06</td>\n",
       "      <td>True</td>\n",
       "      <td>0.26955</td>\n",
       "    </tr>\n",
       "    <tr>\n",
       "      <th>247</th>\n",
       "      <td>Z34.94</td>\n",
       "      <td>False</td>\n",
       "      <td>0.76333</td>\n",
       "    </tr>\n",
       "    <tr>\n",
       "      <th>248</th>\n",
       "      <td>Z34.94</td>\n",
       "      <td>True</td>\n",
       "      <td>0.23667</td>\n",
       "    </tr>\n",
       "    <tr>\n",
       "      <th>249</th>\n",
       "      <td>Z66.42</td>\n",
       "      <td>False</td>\n",
       "      <td>0.69565</td>\n",
       "    </tr>\n",
       "    <tr>\n",
       "      <th>250</th>\n",
       "      <td>Z66.42</td>\n",
       "      <td>True</td>\n",
       "      <td>0.30435</td>\n",
       "    </tr>\n",
       "    <tr>\n",
       "      <th>251</th>\n",
       "      <td>Z95.40</td>\n",
       "      <td>False</td>\n",
       "      <td>0.92593</td>\n",
       "    </tr>\n",
       "    <tr>\n",
       "      <th>252</th>\n",
       "      <td>Z95.40</td>\n",
       "      <td>True</td>\n",
       "      <td>0.07407</td>\n",
       "    </tr>\n",
       "    <tr>\n",
       "      <th>253</th>\n",
       "      <td>Z98.86</td>\n",
       "      <td>False</td>\n",
       "      <td>0.95073</td>\n",
       "    </tr>\n",
       "    <tr>\n",
       "      <th>254</th>\n",
       "      <td>Z98.86</td>\n",
       "      <td>True</td>\n",
       "      <td>0.04927</td>\n",
       "    </tr>\n",
       "  </tbody>\n",
       "</table>\n",
       "</div>"
      ],
      "text/plain": [
       "    diagnosis  rejected  frequency\n",
       "235    Y08.66      True    0.16667\n",
       "236    Y11.84     False    1.00000\n",
       "237    Y51.55     False    0.90618\n",
       "238    Y51.55      True    0.09382\n",
       "239    Y97.47     False    0.88876\n",
       "240    Y97.47      True    0.11124\n",
       "241    Z04.98     False    0.93478\n",
       "242    Z04.98      True    0.06522\n",
       "243    Z20.23     False    0.67788\n",
       "244    Z20.23      True    0.32212\n",
       "245    Z25.06     False    0.73045\n",
       "246    Z25.06      True    0.26955\n",
       "247    Z34.94     False    0.76333\n",
       "248    Z34.94      True    0.23667\n",
       "249    Z66.42     False    0.69565\n",
       "250    Z66.42      True    0.30435\n",
       "251    Z95.40     False    0.92593\n",
       "252    Z95.40      True    0.07407\n",
       "253    Z98.86     False    0.95073\n",
       "254    Z98.86      True    0.04927"
      ]
     },
     "execution_count": 83,
     "metadata": {},
     "output_type": "execute_result"
    }
   ],
   "source": [
    "df['rejected'].groupby(df['diagnosis']) \\\n",
    ".value_counts(normalize=True). \\\n",
    "rename('frequency').to_frame() \\\n",
    ".reset_index().tail(20)"
   ]
  },
  {
   "cell_type": "code",
   "execution_count": null,
   "id": "36ab8c9a",
   "metadata": {},
   "outputs": [],
   "source": []
  },
  {
   "cell_type": "markdown",
   "id": "bb3fd1c5",
   "metadata": {},
   "source": [
    "-- Each medication has difference acceptance rate -- which ones are higher and which lower? -- The more common medications and diagnoris -- correlation(approval rate) between diagnosis and medication-- \n",
    "\n",
    "For each diagnosis which drugs are more likely to be accepted? Diagnosis and medication. \n",
    "Diagnosis and medication could be repition of the data. -- ( shrinkage and selection for correlated colums)\n",
    "\n",
    "diagnosis and medication will have simlar information.-- There is certain number of medication for certain diagnosis. "
   ]
  },
  {
   "cell_type": "code",
   "execution_count": 84,
   "id": "651eccad",
   "metadata": {},
   "outputs": [
    {
     "data": {
      "text/html": [
       "<div>\n",
       "<style scoped>\n",
       "    .dataframe tbody tr th:only-of-type {\n",
       "        vertical-align: middle;\n",
       "    }\n",
       "\n",
       "    .dataframe tbody tr th {\n",
       "        vertical-align: top;\n",
       "    }\n",
       "\n",
       "    .dataframe thead th {\n",
       "        text-align: right;\n",
       "    }\n",
       "</style>\n",
       "<table border=\"1\" class=\"dataframe\">\n",
       "  <thead>\n",
       "    <tr style=\"text-align: right;\">\n",
       "      <th></th>\n",
       "      <th>diagnosis</th>\n",
       "      <th>drug_name</th>\n",
       "      <th>frequency</th>\n",
       "    </tr>\n",
       "  </thead>\n",
       "  <tbody>\n",
       "    <tr>\n",
       "      <th>0</th>\n",
       "      <td>A00.82</td>\n",
       "      <td>glulune</td>\n",
       "      <td>0.65051</td>\n",
       "    </tr>\n",
       "    <tr>\n",
       "      <th>1</th>\n",
       "      <td>A00.82</td>\n",
       "      <td>antimab</td>\n",
       "      <td>0.34949</td>\n",
       "    </tr>\n",
       "    <tr>\n",
       "      <th>2</th>\n",
       "      <td>A13.39</td>\n",
       "      <td>oxasoted</td>\n",
       "      <td>0.17454</td>\n",
       "    </tr>\n",
       "    <tr>\n",
       "      <th>3</th>\n",
       "      <td>A13.39</td>\n",
       "      <td>tovane</td>\n",
       "      <td>0.16491</td>\n",
       "    </tr>\n",
       "    <tr>\n",
       "      <th>4</th>\n",
       "      <td>A13.39</td>\n",
       "      <td>colifunene</td>\n",
       "      <td>0.15302</td>\n",
       "    </tr>\n",
       "    <tr>\n",
       "      <th>...</th>\n",
       "      <td>...</td>\n",
       "      <td>...</td>\n",
       "      <td>...</td>\n",
       "    </tr>\n",
       "    <tr>\n",
       "      <th>502</th>\n",
       "      <td>Z98.86</td>\n",
       "      <td>oxasoted</td>\n",
       "      <td>0.34236</td>\n",
       "    </tr>\n",
       "    <tr>\n",
       "      <th>503</th>\n",
       "      <td>Z98.86</td>\n",
       "      <td>keglusited</td>\n",
       "      <td>0.27795</td>\n",
       "    </tr>\n",
       "    <tr>\n",
       "      <th>504</th>\n",
       "      <td>Z98.86</td>\n",
       "      <td>thiostasteglume</td>\n",
       "      <td>0.22987</td>\n",
       "    </tr>\n",
       "    <tr>\n",
       "      <th>505</th>\n",
       "      <td>Z98.86</td>\n",
       "      <td>spifistime</td>\n",
       "      <td>0.08494</td>\n",
       "    </tr>\n",
       "    <tr>\n",
       "      <th>506</th>\n",
       "      <td>Z98.86</td>\n",
       "      <td>debome</td>\n",
       "      <td>0.06488</td>\n",
       "    </tr>\n",
       "  </tbody>\n",
       "</table>\n",
       "<p>507 rows × 3 columns</p>\n",
       "</div>"
      ],
      "text/plain": [
       "    diagnosis        drug_name  frequency\n",
       "0      A00.82          glulune    0.65051\n",
       "1      A00.82          antimab    0.34949\n",
       "2      A13.39         oxasoted    0.17454\n",
       "3      A13.39           tovane    0.16491\n",
       "4      A13.39       colifunene    0.15302\n",
       "..        ...              ...        ...\n",
       "502    Z98.86         oxasoted    0.34236\n",
       "503    Z98.86       keglusited    0.27795\n",
       "504    Z98.86  thiostasteglume    0.22987\n",
       "505    Z98.86       spifistime    0.08494\n",
       "506    Z98.86           debome    0.06488\n",
       "\n",
       "[507 rows x 3 columns]"
      ]
     },
     "execution_count": 84,
     "metadata": {},
     "output_type": "execute_result"
    }
   ],
   "source": [
    "df['drug_name'].groupby(df['diagnosis']) \\\n",
    ".value_counts(normalize=True). \\\n",
    "rename('frequency').to_frame() \\\n",
    ".reset_index()"
   ]
  },
  {
   "cell_type": "markdown",
   "id": "2b520c6e",
   "metadata": {},
   "source": [
    "pcn and group ---exploring insurance  further a way of missing values and how to deal with them.\n",
    "\n",
    "Attempt a classification model "
   ]
  },
  {
   "cell_type": "markdown",
   "id": "bb6ce745",
   "metadata": {},
   "source": [
    "***For the classification model we will start with a Decision Tree***"
   ]
  },
  {
   "cell_type": "code",
   "execution_count": 85,
   "id": "d48b1242",
   "metadata": {},
   "outputs": [],
   "source": [
    "import sqlite3\n",
    "import warnings\n",
    "\n",
    "import matplotlib.pyplot as plt\n",
    "import pandas as pd\n",
    "from category_encoders import OrdinalEncoder\n",
    "from IPython.display import VimeoVideo\n",
    "from sklearn.metrics import accuracy_score\n",
    "from sklearn.model_selection import train_test_split\n",
    "from sklearn.pipeline import Pipeline, make_pipeline\n",
    "from sklearn.tree import DecisionTreeClassifier, plot_tree\n",
    "from sklearn.utils.validation import check_is_fitted\n",
    "\n",
    "warnings.simplefilter(action=\"ignore\", category=FutureWarning)\n"
   ]
  },
  {
   "cell_type": "code",
   "execution_count": 86,
   "id": "503ba9da",
   "metadata": {},
   "outputs": [],
   "source": [
    "# conda install category_encoders"
   ]
  },
  {
   "cell_type": "code",
   "execution_count": 87,
   "id": "635b2494",
   "metadata": {},
   "outputs": [],
   "source": [
    "#Build Model\n",
    "model = make_pipeline( \\\n",
    "OrdinalEncoder(), DecisionTreeClassifier( \\\n",
    "random_state=42))\n"
   ]
  },
  {
   "cell_type": "code",
   "execution_count": 88,
   "id": "eba0e313",
   "metadata": {},
   "outputs": [
    {
     "data": {
      "text/html": [
       "<div>\n",
       "<style scoped>\n",
       "    .dataframe tbody tr th:only-of-type {\n",
       "        vertical-align: middle;\n",
       "    }\n",
       "\n",
       "    .dataframe tbody tr th {\n",
       "        vertical-align: top;\n",
       "    }\n",
       "\n",
       "    .dataframe thead th {\n",
       "        text-align: right;\n",
       "    }\n",
       "</style>\n",
       "<table border=\"1\" class=\"dataframe\">\n",
       "  <thead>\n",
       "    <tr style=\"text-align: right;\">\n",
       "      <th></th>\n",
       "      <th>tx_date</th>\n",
       "      <th>pharmacy</th>\n",
       "      <th>diagnosis</th>\n",
       "      <th>drug</th>\n",
       "      <th>bin</th>\n",
       "      <th>pcn</th>\n",
       "      <th>group</th>\n",
       "      <th>rejected</th>\n",
       "      <th>patient_pay</th>\n",
       "      <th>drug_type</th>\n",
       "      <th>drug_name</th>\n",
       "      <th>diagnosis_broad</th>\n",
       "      <th>diagnosis_specific</th>\n",
       "    </tr>\n",
       "  </thead>\n",
       "  <tbody>\n",
       "    <tr>\n",
       "      <th>0</th>\n",
       "      <td>2022-01-02</td>\n",
       "      <td>Pharmacy #6</td>\n",
       "      <td>G99.93</td>\n",
       "      <td>branded tanoclolol</td>\n",
       "      <td>725700</td>\n",
       "      <td>1UQC</td>\n",
       "      <td>NaN</td>\n",
       "      <td>False</td>\n",
       "      <td>13.39000</td>\n",
       "      <td>branded</td>\n",
       "      <td>tanoclolol</td>\n",
       "      <td>G99</td>\n",
       "      <td>93</td>\n",
       "    </tr>\n",
       "    <tr>\n",
       "      <th>1</th>\n",
       "      <td>2022-01-02</td>\n",
       "      <td>Pharmacy #42</td>\n",
       "      <td>U60.52</td>\n",
       "      <td>branded oxasoted</td>\n",
       "      <td>664344</td>\n",
       "      <td>NaN</td>\n",
       "      <td>52H8KH0F83K</td>\n",
       "      <td>False</td>\n",
       "      <td>7.02000</td>\n",
       "      <td>branded</td>\n",
       "      <td>oxasoted</td>\n",
       "      <td>U60</td>\n",
       "      <td>52</td>\n",
       "    </tr>\n",
       "    <tr>\n",
       "      <th>2</th>\n",
       "      <td>2022-01-02</td>\n",
       "      <td>Pharmacy #37</td>\n",
       "      <td>Q85.91</td>\n",
       "      <td>branded cupitelol</td>\n",
       "      <td>725700</td>\n",
       "      <td>1UQC</td>\n",
       "      <td>NaN</td>\n",
       "      <td>False</td>\n",
       "      <td>13.39000</td>\n",
       "      <td>branded</td>\n",
       "      <td>cupitelol</td>\n",
       "      <td>Q85</td>\n",
       "      <td>91</td>\n",
       "    </tr>\n",
       "    <tr>\n",
       "      <th>3</th>\n",
       "      <td>2022-01-02</td>\n",
       "      <td>Pharmacy #30</td>\n",
       "      <td>U60.52</td>\n",
       "      <td>generic oxasoted</td>\n",
       "      <td>571569</td>\n",
       "      <td>KB38N</td>\n",
       "      <td>6BYJBW</td>\n",
       "      <td>False</td>\n",
       "      <td>10.84000</td>\n",
       "      <td>generic</td>\n",
       "      <td>oxasoted</td>\n",
       "      <td>U60</td>\n",
       "      <td>52</td>\n",
       "    </tr>\n",
       "    <tr>\n",
       "      <th>4</th>\n",
       "      <td>2022-01-02</td>\n",
       "      <td>Pharmacy #18</td>\n",
       "      <td>N55.01</td>\n",
       "      <td>branded mamate</td>\n",
       "      <td>664344</td>\n",
       "      <td>NaN</td>\n",
       "      <td>ZX2QUWR</td>\n",
       "      <td>False</td>\n",
       "      <td>47.00000</td>\n",
       "      <td>branded</td>\n",
       "      <td>mamate</td>\n",
       "      <td>N55</td>\n",
       "      <td>01</td>\n",
       "    </tr>\n",
       "  </tbody>\n",
       "</table>\n",
       "</div>"
      ],
      "text/plain": [
       "     tx_date      pharmacy diagnosis                drug     bin    pcn  \\\n",
       "0 2022-01-02   Pharmacy #6    G99.93  branded tanoclolol  725700   1UQC   \n",
       "1 2022-01-02  Pharmacy #42    U60.52    branded oxasoted  664344    NaN   \n",
       "2 2022-01-02  Pharmacy #37    Q85.91   branded cupitelol  725700   1UQC   \n",
       "3 2022-01-02  Pharmacy #30    U60.52    generic oxasoted  571569  KB38N   \n",
       "4 2022-01-02  Pharmacy #18    N55.01      branded mamate  664344    NaN   \n",
       "\n",
       "         group  rejected  patient_pay drug_type   drug_name diagnosis_broad  \\\n",
       "0          NaN     False     13.39000   branded  tanoclolol             G99   \n",
       "1  52H8KH0F83K     False      7.02000   branded    oxasoted             U60   \n",
       "2          NaN     False     13.39000   branded   cupitelol             Q85   \n",
       "3       6BYJBW     False     10.84000   generic    oxasoted             U60   \n",
       "4      ZX2QUWR     False     47.00000   branded      mamate             N55   \n",
       "\n",
       "  diagnosis_specific  \n",
       "0                 93  \n",
       "1                 52  \n",
       "2                 91  \n",
       "3                 52  \n",
       "4                 01  "
      ]
     },
     "execution_count": 88,
     "metadata": {},
     "output_type": "execute_result"
    }
   ],
   "source": [
    "df.head()"
   ]
  },
  {
   "cell_type": "code",
   "execution_count": 89,
   "id": "e02a0481",
   "metadata": {},
   "outputs": [
    {
     "data": {
      "text/plain": [
       "tx_date                     0\n",
       "pharmacy                    0\n",
       "diagnosis                   0\n",
       "drug                        0\n",
       "bin                         0\n",
       "pcn                   3626961\n",
       "group                 3909025\n",
       "rejected                    0\n",
       "patient_pay                 0\n",
       "drug_type                   0\n",
       "drug_name                   0\n",
       "diagnosis_broad             0\n",
       "diagnosis_specific          0\n",
       "dtype: int64"
      ]
     },
     "execution_count": 89,
     "metadata": {},
     "output_type": "execute_result"
    }
   ],
   "source": [
    "#missing values\n",
    "df.isnull().sum()"
   ]
  },
  {
   "cell_type": "code",
   "execution_count": 90,
   "id": "65d9c81a",
   "metadata": {},
   "outputs": [],
   "source": [
    "df1 = df.copy()"
   ]
  },
  {
   "cell_type": "code",
   "execution_count": 91,
   "id": "bb09f903",
   "metadata": {},
   "outputs": [],
   "source": [
    "# to train the trees with missing values\n",
    "df.fillna('Missing',inplace=True)"
   ]
  },
  {
   "cell_type": "code",
   "execution_count": 92,
   "id": "57cb7645",
   "metadata": {},
   "outputs": [
    {
     "data": {
      "text/html": [
       "<div>\n",
       "<style scoped>\n",
       "    .dataframe tbody tr th:only-of-type {\n",
       "        vertical-align: middle;\n",
       "    }\n",
       "\n",
       "    .dataframe tbody tr th {\n",
       "        vertical-align: top;\n",
       "    }\n",
       "\n",
       "    .dataframe thead th {\n",
       "        text-align: right;\n",
       "    }\n",
       "</style>\n",
       "<table border=\"1\" class=\"dataframe\">\n",
       "  <thead>\n",
       "    <tr style=\"text-align: right;\">\n",
       "      <th></th>\n",
       "      <th>tx_date</th>\n",
       "      <th>pharmacy</th>\n",
       "      <th>diagnosis</th>\n",
       "      <th>drug</th>\n",
       "      <th>bin</th>\n",
       "      <th>pcn</th>\n",
       "      <th>group</th>\n",
       "      <th>rejected</th>\n",
       "      <th>patient_pay</th>\n",
       "      <th>drug_type</th>\n",
       "      <th>drug_name</th>\n",
       "      <th>diagnosis_broad</th>\n",
       "      <th>diagnosis_specific</th>\n",
       "    </tr>\n",
       "  </thead>\n",
       "  <tbody>\n",
       "    <tr>\n",
       "      <th>0</th>\n",
       "      <td>2022-01-02</td>\n",
       "      <td>Pharmacy #6</td>\n",
       "      <td>G99.93</td>\n",
       "      <td>branded tanoclolol</td>\n",
       "      <td>725700</td>\n",
       "      <td>1UQC</td>\n",
       "      <td>Missing</td>\n",
       "      <td>False</td>\n",
       "      <td>13.39000</td>\n",
       "      <td>branded</td>\n",
       "      <td>tanoclolol</td>\n",
       "      <td>G99</td>\n",
       "      <td>93</td>\n",
       "    </tr>\n",
       "    <tr>\n",
       "      <th>1</th>\n",
       "      <td>2022-01-02</td>\n",
       "      <td>Pharmacy #42</td>\n",
       "      <td>U60.52</td>\n",
       "      <td>branded oxasoted</td>\n",
       "      <td>664344</td>\n",
       "      <td>Missing</td>\n",
       "      <td>52H8KH0F83K</td>\n",
       "      <td>False</td>\n",
       "      <td>7.02000</td>\n",
       "      <td>branded</td>\n",
       "      <td>oxasoted</td>\n",
       "      <td>U60</td>\n",
       "      <td>52</td>\n",
       "    </tr>\n",
       "    <tr>\n",
       "      <th>2</th>\n",
       "      <td>2022-01-02</td>\n",
       "      <td>Pharmacy #37</td>\n",
       "      <td>Q85.91</td>\n",
       "      <td>branded cupitelol</td>\n",
       "      <td>725700</td>\n",
       "      <td>1UQC</td>\n",
       "      <td>Missing</td>\n",
       "      <td>False</td>\n",
       "      <td>13.39000</td>\n",
       "      <td>branded</td>\n",
       "      <td>cupitelol</td>\n",
       "      <td>Q85</td>\n",
       "      <td>91</td>\n",
       "    </tr>\n",
       "    <tr>\n",
       "      <th>3</th>\n",
       "      <td>2022-01-02</td>\n",
       "      <td>Pharmacy #30</td>\n",
       "      <td>U60.52</td>\n",
       "      <td>generic oxasoted</td>\n",
       "      <td>571569</td>\n",
       "      <td>KB38N</td>\n",
       "      <td>6BYJBW</td>\n",
       "      <td>False</td>\n",
       "      <td>10.84000</td>\n",
       "      <td>generic</td>\n",
       "      <td>oxasoted</td>\n",
       "      <td>U60</td>\n",
       "      <td>52</td>\n",
       "    </tr>\n",
       "    <tr>\n",
       "      <th>4</th>\n",
       "      <td>2022-01-02</td>\n",
       "      <td>Pharmacy #18</td>\n",
       "      <td>N55.01</td>\n",
       "      <td>branded mamate</td>\n",
       "      <td>664344</td>\n",
       "      <td>Missing</td>\n",
       "      <td>ZX2QUWR</td>\n",
       "      <td>False</td>\n",
       "      <td>47.00000</td>\n",
       "      <td>branded</td>\n",
       "      <td>mamate</td>\n",
       "      <td>N55</td>\n",
       "      <td>01</td>\n",
       "    </tr>\n",
       "  </tbody>\n",
       "</table>\n",
       "</div>"
      ],
      "text/plain": [
       "     tx_date      pharmacy diagnosis                drug     bin      pcn  \\\n",
       "0 2022-01-02   Pharmacy #6    G99.93  branded tanoclolol  725700     1UQC   \n",
       "1 2022-01-02  Pharmacy #42    U60.52    branded oxasoted  664344  Missing   \n",
       "2 2022-01-02  Pharmacy #37    Q85.91   branded cupitelol  725700     1UQC   \n",
       "3 2022-01-02  Pharmacy #30    U60.52    generic oxasoted  571569    KB38N   \n",
       "4 2022-01-02  Pharmacy #18    N55.01      branded mamate  664344  Missing   \n",
       "\n",
       "         group  rejected  patient_pay drug_type   drug_name diagnosis_broad  \\\n",
       "0      Missing     False     13.39000   branded  tanoclolol             G99   \n",
       "1  52H8KH0F83K     False      7.02000   branded    oxasoted             U60   \n",
       "2      Missing     False     13.39000   branded   cupitelol             Q85   \n",
       "3       6BYJBW     False     10.84000   generic    oxasoted             U60   \n",
       "4      ZX2QUWR     False     47.00000   branded      mamate             N55   \n",
       "\n",
       "  diagnosis_specific  \n",
       "0                 93  \n",
       "1                 52  \n",
       "2                 91  \n",
       "3                 52  \n",
       "4                 01  "
      ]
     },
     "execution_count": 92,
     "metadata": {},
     "output_type": "execute_result"
    }
   ],
   "source": [
    "df.head()"
   ]
  },
  {
   "cell_type": "code",
   "execution_count": 93,
   "id": "26cda3b4",
   "metadata": {},
   "outputs": [
    {
     "data": {
      "text/plain": [
       "tx_date               0\n",
       "pharmacy              0\n",
       "diagnosis             0\n",
       "drug                  0\n",
       "bin                   0\n",
       "pcn                   0\n",
       "group                 0\n",
       "rejected              0\n",
       "patient_pay           0\n",
       "drug_type             0\n",
       "drug_name             0\n",
       "diagnosis_broad       0\n",
       "diagnosis_specific    0\n",
       "dtype: int64"
      ]
     },
     "execution_count": 93,
     "metadata": {},
     "output_type": "execute_result"
    }
   ],
   "source": [
    "#missing values\n",
    "df.isnull().sum()"
   ]
  },
  {
   "cell_type": "code",
   "execution_count": 94,
   "id": "bbf9bfc0",
   "metadata": {},
   "outputs": [
    {
     "name": "stdout",
     "output_type": "stream",
     "text": [
      "<class 'pandas.core.frame.DataFrame'>\n",
      "RangeIndex: 13910244 entries, 0 to 13910243\n",
      "Data columns (total 13 columns):\n",
      " #   Column              Dtype         \n",
      "---  ------              -----         \n",
      " 0   tx_date             datetime64[ns]\n",
      " 1   pharmacy            object        \n",
      " 2   diagnosis           object        \n",
      " 3   drug                object        \n",
      " 4   bin                 int64         \n",
      " 5   pcn                 object        \n",
      " 6   group               object        \n",
      " 7   rejected            bool          \n",
      " 8   patient_pay         float64       \n",
      " 9   drug_type           object        \n",
      " 10  drug_name           object        \n",
      " 11  diagnosis_broad     object        \n",
      " 12  diagnosis_specific  object        \n",
      "dtypes: bool(1), datetime64[ns](1), float64(1), int64(1), object(9)\n",
      "memory usage: 1.3+ GB\n"
     ]
    }
   ],
   "source": [
    "df.info()"
   ]
  },
  {
   "cell_type": "code",
   "execution_count": 95,
   "id": "80b7691d",
   "metadata": {},
   "outputs": [],
   "source": [
    "target = \"rejected\"\n",
    "# our target variable\n",
    "y = df[target]"
   ]
  },
  {
   "cell_type": "code",
   "execution_count": 96,
   "id": "37e04e95",
   "metadata": {},
   "outputs": [],
   "source": [
    "notneeded = ['tx_date','pharmacy','diagnosis','drug','patient_pay','rejected']\n",
    "#features\n",
    "X = df.drop(columns=['tx_date','pharmacy','diagnosis','drug','patient_pay','rejected'])"
   ]
  },
  {
   "cell_type": "code",
   "execution_count": 97,
   "id": "1c5b15d9",
   "metadata": {},
   "outputs": [
    {
     "data": {
      "text/html": [
       "<div>\n",
       "<style scoped>\n",
       "    .dataframe tbody tr th:only-of-type {\n",
       "        vertical-align: middle;\n",
       "    }\n",
       "\n",
       "    .dataframe tbody tr th {\n",
       "        vertical-align: top;\n",
       "    }\n",
       "\n",
       "    .dataframe thead th {\n",
       "        text-align: right;\n",
       "    }\n",
       "</style>\n",
       "<table border=\"1\" class=\"dataframe\">\n",
       "  <thead>\n",
       "    <tr style=\"text-align: right;\">\n",
       "      <th></th>\n",
       "      <th>tx_date</th>\n",
       "      <th>pharmacy</th>\n",
       "      <th>diagnosis</th>\n",
       "      <th>drug</th>\n",
       "      <th>bin</th>\n",
       "      <th>pcn</th>\n",
       "      <th>group</th>\n",
       "      <th>rejected</th>\n",
       "      <th>patient_pay</th>\n",
       "      <th>drug_type</th>\n",
       "      <th>drug_name</th>\n",
       "      <th>diagnosis_broad</th>\n",
       "      <th>diagnosis_specific</th>\n",
       "    </tr>\n",
       "  </thead>\n",
       "  <tbody>\n",
       "    <tr>\n",
       "      <th>0</th>\n",
       "      <td>2022-01-02</td>\n",
       "      <td>Pharmacy #6</td>\n",
       "      <td>G99.93</td>\n",
       "      <td>branded tanoclolol</td>\n",
       "      <td>725700</td>\n",
       "      <td>1UQC</td>\n",
       "      <td>NaN</td>\n",
       "      <td>False</td>\n",
       "      <td>13.39000</td>\n",
       "      <td>branded</td>\n",
       "      <td>tanoclolol</td>\n",
       "      <td>G99</td>\n",
       "      <td>93</td>\n",
       "    </tr>\n",
       "    <tr>\n",
       "      <th>1</th>\n",
       "      <td>2022-01-02</td>\n",
       "      <td>Pharmacy #42</td>\n",
       "      <td>U60.52</td>\n",
       "      <td>branded oxasoted</td>\n",
       "      <td>664344</td>\n",
       "      <td>NaN</td>\n",
       "      <td>52H8KH0F83K</td>\n",
       "      <td>False</td>\n",
       "      <td>7.02000</td>\n",
       "      <td>branded</td>\n",
       "      <td>oxasoted</td>\n",
       "      <td>U60</td>\n",
       "      <td>52</td>\n",
       "    </tr>\n",
       "    <tr>\n",
       "      <th>2</th>\n",
       "      <td>2022-01-02</td>\n",
       "      <td>Pharmacy #37</td>\n",
       "      <td>Q85.91</td>\n",
       "      <td>branded cupitelol</td>\n",
       "      <td>725700</td>\n",
       "      <td>1UQC</td>\n",
       "      <td>NaN</td>\n",
       "      <td>False</td>\n",
       "      <td>13.39000</td>\n",
       "      <td>branded</td>\n",
       "      <td>cupitelol</td>\n",
       "      <td>Q85</td>\n",
       "      <td>91</td>\n",
       "    </tr>\n",
       "    <tr>\n",
       "      <th>3</th>\n",
       "      <td>2022-01-02</td>\n",
       "      <td>Pharmacy #30</td>\n",
       "      <td>U60.52</td>\n",
       "      <td>generic oxasoted</td>\n",
       "      <td>571569</td>\n",
       "      <td>KB38N</td>\n",
       "      <td>6BYJBW</td>\n",
       "      <td>False</td>\n",
       "      <td>10.84000</td>\n",
       "      <td>generic</td>\n",
       "      <td>oxasoted</td>\n",
       "      <td>U60</td>\n",
       "      <td>52</td>\n",
       "    </tr>\n",
       "    <tr>\n",
       "      <th>4</th>\n",
       "      <td>2022-01-02</td>\n",
       "      <td>Pharmacy #18</td>\n",
       "      <td>N55.01</td>\n",
       "      <td>branded mamate</td>\n",
       "      <td>664344</td>\n",
       "      <td>NaN</td>\n",
       "      <td>ZX2QUWR</td>\n",
       "      <td>False</td>\n",
       "      <td>47.00000</td>\n",
       "      <td>branded</td>\n",
       "      <td>mamate</td>\n",
       "      <td>N55</td>\n",
       "      <td>01</td>\n",
       "    </tr>\n",
       "  </tbody>\n",
       "</table>\n",
       "</div>"
      ],
      "text/plain": [
       "     tx_date      pharmacy diagnosis                drug     bin    pcn  \\\n",
       "0 2022-01-02   Pharmacy #6    G99.93  branded tanoclolol  725700   1UQC   \n",
       "1 2022-01-02  Pharmacy #42    U60.52    branded oxasoted  664344    NaN   \n",
       "2 2022-01-02  Pharmacy #37    Q85.91   branded cupitelol  725700   1UQC   \n",
       "3 2022-01-02  Pharmacy #30    U60.52    generic oxasoted  571569  KB38N   \n",
       "4 2022-01-02  Pharmacy #18    N55.01      branded mamate  664344    NaN   \n",
       "\n",
       "         group  rejected  patient_pay drug_type   drug_name diagnosis_broad  \\\n",
       "0          NaN     False     13.39000   branded  tanoclolol             G99   \n",
       "1  52H8KH0F83K     False      7.02000   branded    oxasoted             U60   \n",
       "2          NaN     False     13.39000   branded   cupitelol             Q85   \n",
       "3       6BYJBW     False     10.84000   generic    oxasoted             U60   \n",
       "4      ZX2QUWR     False     47.00000   branded      mamate             N55   \n",
       "\n",
       "  diagnosis_specific  \n",
       "0                 93  \n",
       "1                 52  \n",
       "2                 91  \n",
       "3                 52  \n",
       "4                 01  "
      ]
     },
     "execution_count": 97,
     "metadata": {},
     "output_type": "execute_result"
    }
   ],
   "source": [
    "df1.head()"
   ]
  },
  {
   "cell_type": "code",
   "execution_count": null,
   "id": "1cf5d3fd",
   "metadata": {},
   "outputs": [],
   "source": []
  },
  {
   "cell_type": "code",
   "execution_count": null,
   "id": "f515fe2a",
   "metadata": {},
   "outputs": [],
   "source": []
  },
  {
   "cell_type": "code",
   "execution_count": null,
   "id": "6429e4f2",
   "metadata": {},
   "outputs": [],
   "source": []
  },
  {
   "cell_type": "code",
   "execution_count": null,
   "id": "cd451fec",
   "metadata": {},
   "outputs": [],
   "source": []
  },
  {
   "cell_type": "code",
   "execution_count": null,
   "id": "3de423f6",
   "metadata": {},
   "outputs": [],
   "source": []
  },
  {
   "cell_type": "code",
   "execution_count": null,
   "id": "8fcd47af",
   "metadata": {},
   "outputs": [],
   "source": []
  },
  {
   "cell_type": "code",
   "execution_count": null,
   "id": "8ad683c4",
   "metadata": {},
   "outputs": [],
   "source": []
  },
  {
   "cell_type": "markdown",
   "id": "0a7652f6",
   "metadata": {},
   "source": [
    "## GRADIENT BOOSTING TREE MODEL"
   ]
  },
  {
   "cell_type": "markdown",
   "id": "fe4401b4",
   "metadata": {},
   "source": [
    " Boosting -- weak learner "
   ]
  },
  {
   "cell_type": "markdown",
   "id": "3b7a713c",
   "metadata": {},
   "source": [
    "####  Positive Class: Rejected(Not Accepeted)  |||Negative Class: Accepted"
   ]
  },
  {
   "cell_type": "code",
   "execution_count": 104,
   "id": "120417df",
   "metadata": {
    "scrolled": true
   },
   "outputs": [],
   "source": [
    "import pickle\n",
    "from sklearn.preprocessing import OneHotEncoder\n",
    "import ipywidgets as widgets #interactive dashboard\n",
    "import pandas as pd\n",
    "from imblearn.over_sampling import RandomOverSampler\n",
    "from imblearn.under_sampling import RandomUnderSampler\n",
    "from IPython.display import VimeoVideo\n",
    "from ipywidgets import interact #interactive dashboard\n",
    "from sklearn.ensemble import GradientBoostingClassifier\n",
    "from sklearn.impute import SimpleImputer\n",
    "from sklearn.metrics import (\n",
    "    ConfusionMatrixDisplay,\n",
    "    classification_report,\n",
    "    confusion_matrix,\n",
    ")\n",
    "from sklearn.model_selection import GridSearchCV, train_test_split\n",
    "from sklearn.pipeline import make_pipeline"
   ]
  },
  {
   "cell_type": "code",
   "execution_count": 49,
   "id": "99c9d430",
   "metadata": {},
   "outputs": [],
   "source": [
    "# conda install -c conda-forge imbalanced-learn"
   ]
  },
  {
   "cell_type": "markdown",
   "id": "2f2b37df",
   "metadata": {},
   "source": [
    "# TEST and TRAININING SETS"
   ]
  },
  {
   "cell_type": "code",
   "execution_count": 50,
   "id": "bad1972e",
   "metadata": {},
   "outputs": [
    {
     "name": "stdout",
     "output_type": "stream",
     "text": [
      "X_train shape: (11128195, 7)\n",
      "y_train shape: (11128195,)\n",
      "X_test shape: (2782049, 7)\n",
      "y_test shape: (2782049,)\n"
     ]
    }
   ],
   "source": [
    "X_train, X_test, y_train, y_test = train_test_split( \\\n",
    "X,y,test_size=0.2,random_state=42)\n",
    "\n",
    "print(\"X_train shape:\", X_train.shape)\n",
    "print(\"y_train shape:\", y_train.shape)\n",
    "print(\"X_test shape:\", X_test.shape)\n",
    "print(\"y_test shape:\", y_test.shape)"
   ]
  },
  {
   "cell_type": "markdown",
   "id": "9eb05682",
   "metadata": {},
   "source": [
    "# RESAMPLE USING UNDER-SAMPLING"
   ]
  },
  {
   "cell_type": "code",
   "execution_count": 51,
   "id": "0755d613",
   "metadata": {},
   "outputs": [
    {
     "name": "stdout",
     "output_type": "stream",
     "text": [
      "X_train_over shape: (1738886, 7)\n"
     ]
    },
    {
     "data": {
      "text/html": [
       "<div>\n",
       "<style scoped>\n",
       "    .dataframe tbody tr th:only-of-type {\n",
       "        vertical-align: middle;\n",
       "    }\n",
       "\n",
       "    .dataframe tbody tr th {\n",
       "        vertical-align: top;\n",
       "    }\n",
       "\n",
       "    .dataframe thead th {\n",
       "        text-align: right;\n",
       "    }\n",
       "</style>\n",
       "<table border=\"1\" class=\"dataframe\">\n",
       "  <thead>\n",
       "    <tr style=\"text-align: right;\">\n",
       "      <th></th>\n",
       "      <th>bin</th>\n",
       "      <th>pcn</th>\n",
       "      <th>group</th>\n",
       "      <th>drug_type</th>\n",
       "      <th>drug_name</th>\n",
       "      <th>diagnosis_broad</th>\n",
       "      <th>diagnosis_specific</th>\n",
       "    </tr>\n",
       "  </thead>\n",
       "  <tbody>\n",
       "    <tr>\n",
       "      <th>0</th>\n",
       "      <td>664344</td>\n",
       "      <td>Missing</td>\n",
       "      <td>STGRDKR1J5RD</td>\n",
       "      <td>generic</td>\n",
       "      <td>hozirol</td>\n",
       "      <td>G99</td>\n",
       "      <td>93</td>\n",
       "    </tr>\n",
       "    <tr>\n",
       "      <th>1</th>\n",
       "      <td>539437</td>\n",
       "      <td>Missing</td>\n",
       "      <td>1CAHL</td>\n",
       "      <td>branded</td>\n",
       "      <td>sizubesin</td>\n",
       "      <td>N27</td>\n",
       "      <td>23</td>\n",
       "    </tr>\n",
       "    <tr>\n",
       "      <th>2</th>\n",
       "      <td>725700</td>\n",
       "      <td>1UQC</td>\n",
       "      <td>Missing</td>\n",
       "      <td>generic</td>\n",
       "      <td>colifunene</td>\n",
       "      <td>Y51</td>\n",
       "      <td>55</td>\n",
       "    </tr>\n",
       "    <tr>\n",
       "      <th>3</th>\n",
       "      <td>160389</td>\n",
       "      <td>RB7UU</td>\n",
       "      <td>RS5RB3YA</td>\n",
       "      <td>branded</td>\n",
       "      <td>mule</td>\n",
       "      <td>I68</td>\n",
       "      <td>27</td>\n",
       "    </tr>\n",
       "    <tr>\n",
       "      <th>4</th>\n",
       "      <td>691847</td>\n",
       "      <td>XH4T3</td>\n",
       "      <td>GOM8K0</td>\n",
       "      <td>generic</td>\n",
       "      <td>pucomalol</td>\n",
       "      <td>Q85</td>\n",
       "      <td>91</td>\n",
       "    </tr>\n",
       "  </tbody>\n",
       "</table>\n",
       "</div>"
      ],
      "text/plain": [
       "      bin      pcn         group drug_type   drug_name diagnosis_broad  \\\n",
       "0  664344  Missing  STGRDKR1J5RD   generic     hozirol             G99   \n",
       "1  539437  Missing         1CAHL   branded   sizubesin             N27   \n",
       "2  725700     1UQC       Missing   generic  colifunene             Y51   \n",
       "3  160389    RB7UU      RS5RB3YA   branded        mule             I68   \n",
       "4  691847    XH4T3        GOM8K0   generic   pucomalol             Q85   \n",
       "\n",
       "  diagnosis_specific  \n",
       "0                 93  \n",
       "1                 23  \n",
       "2                 55  \n",
       "3                 27  \n",
       "4                 91  "
      ]
     },
     "execution_count": 51,
     "metadata": {},
     "output_type": "execute_result"
    }
   ],
   "source": [
    "#oversampling takes too long to train so Under sampling given our computing power\n",
    "under_sampler = RandomUnderSampler(random_state=42)\n",
    "X_train_over, y_train_over = under_sampler.fit_resample(X_train,y_train)\n",
    "print(\"X_train_over shape:\", X_train_over.shape)\n",
    "X_train_over.head()\n"
   ]
  },
  {
   "cell_type": "markdown",
   "id": "b1e0382f",
   "metadata": {},
   "source": [
    "# BUILD BASELINE MODEL"
   ]
  },
  {
   "cell_type": "code",
   "execution_count": 52,
   "id": "b42517c0",
   "metadata": {},
   "outputs": [
    {
     "name": "stdout",
     "output_type": "stream",
     "text": [
      "Baseline Accuracy is: 0.9219\n"
     ]
    }
   ],
   "source": [
    "acc_baseline = y_train.value_counts(normalize=True).max()\n",
    "print(\"Baseline Accuracy is:\", round(acc_baseline, 4))"
   ]
  },
  {
   "cell_type": "markdown",
   "id": "a8ee0b0b",
   "metadata": {},
   "source": [
    "## Create a ppeline for an ensemble model for our classifier\n"
   ]
  },
  {
   "cell_type": "code",
   "execution_count": 53,
   "id": "ab87cfb3",
   "metadata": {},
   "outputs": [],
   "source": [
    "# we are using ordinal encoder here-- may be there are better ways to approach it?\n",
    "clf = make_pipeline(OrdinalEncoder(),GradientBoostingClassifier())"
   ]
  },
  {
   "cell_type": "markdown",
   "id": "75512202",
   "metadata": {},
   "source": [
    "### Create our hyperparamters -- https://scikit-learn.org/stable/modules/generated/sklearn.tree.DecisionTreeRegressor.html#sklearn.tree.DecisionTreeRegressor"
   ]
  },
  {
   "cell_type": "code",
   "execution_count": null,
   "id": "7585c3a3",
   "metadata": {},
   "outputs": [],
   "source": [
    "# we can add more -- For now we can use the two\n",
    "# create dictionary for hyperparamters\n",
    "params = { \\\n",
    "'gradientboostingclassifier__n_estimators':range(20,31,5), \\\n",
    "'gradientboostingclassifier__max_depth':range(2,5) \\\n",
    "}\n",
    "                          \n",
    "params\n"
   ]
  },
  {
   "cell_type": "markdown",
   "id": "225f35ef",
   "metadata": {},
   "source": [
    "https://scikit-learn.org/stable/modules/generated/sklearn.model_selection.GridSearchCV.html"
   ]
  },
  {
   "cell_type": "code",
   "execution_count": null,
   "id": "f9559961",
   "metadata": {},
   "outputs": [],
   "source": [
    "# We will use Grid search\n",
    "# we can use shuffle as well \n",
    "# we can use 100fold CV but computing power\n",
    "# (https://scikit-learn.org/stable/modules/generated/sklearn.model_selection.GridSearchCV.html)\n",
    "model = GridSearchCV(clf, param_grid=params, cv=5,n_jobs=-1, verbose=1)"
   ]
  },
  {
   "cell_type": "markdown",
   "id": "af0161bd",
   "metadata": {},
   "source": [
    "## FIT MODEL ON OVERSAMPLE DATA"
   ]
  },
  {
   "cell_type": "code",
   "execution_count": null,
   "id": "c15ac757",
   "metadata": {},
   "outputs": [
    {
     "name": "stdout",
     "output_type": "stream",
     "text": [
      "Fitting 5 folds for each of 9 candidates, totalling 45 fits\n"
     ]
    }
   ],
   "source": [
    "# Fit model to over-sampled training data\n",
    "model.fit(X_train_over,y_train_over)"
   ]
  },
  {
   "cell_type": "markdown",
   "id": "ff9d3789",
   "metadata": {},
   "source": [
    "Above we can see that we n estimators times maxdepth times CV equals to the number of fits. "
   ]
  },
  {
   "cell_type": "markdown",
   "id": "e550dd92",
   "metadata": {},
   "source": [
    "The trees are trained is sequence in gradient boosting -- which makes it take longer time(aka computationally expensive). learning_rate could be updated to reduce the amount of time. "
   ]
  },
  {
   "cell_type": "markdown",
   "id": "75f8da1b",
   "metadata": {},
   "source": [
    "Extract the CV results from model"
   ]
  },
  {
   "cell_type": "code",
   "execution_count": null,
   "id": "57dc2819",
   "metadata": {},
   "outputs": [],
   "source": [
    "# extract results \n",
    "results = pd.DataFrame(model.cv_results_)\n",
    "results.sort_values(\"rank_test_score\").head(10)"
   ]
  },
  {
   "cell_type": "code",
   "execution_count": null,
   "id": "c2f8b8e4",
   "metadata": {},
   "outputs": [],
   "source": [
    "# Let us extract the best hyperparamters from our model\n",
    "# Extract best hyperparameters\n",
    "model.best_params_"
   ]
  },
  {
   "cell_type": "code",
   "execution_count": null,
   "id": "75683809",
   "metadata": {},
   "outputs": [],
   "source": [
    "# training and test accuracy of our model\n",
    "acc_train = model.score(X_train,y_train)\n",
    "acc_test = model.score(X_test,y_test)\n",
    "\n",
    "print(\"Training Accuracy:\", round(acc_train, 4))\n",
    "print(\"Validation Accuracy:\", round(acc_test, 4))"
   ]
  },
  {
   "cell_type": "markdown",
   "id": "5a4d375f",
   "metadata": {},
   "source": [
    "## CONFUSION MATRIX"
   ]
  },
  {
   "cell_type": "code",
   "execution_count": null,
   "id": "f68f12b7",
   "metadata": {
    "scrolled": true
   },
   "outputs": [],
   "source": [
    "# Plot confusion matrix\n",
    "ConfusionMatrixDisplay.from_estimator(model,X_test,y_test);"
   ]
  },
  {
   "cell_type": "code",
   "execution_count": null,
   "id": "24d13353",
   "metadata": {},
   "outputs": [],
   "source": [
    "# The first five predictions\n",
    "model.predict(X_test)[:5]"
   ]
  },
  {
   "cell_type": "code",
   "execution_count": null,
   "id": "915c04eb",
   "metadata": {},
   "outputs": [],
   "source": [
    "# The first five predictions probability\n",
    "model.predict_proba(X_test)[:5,-1]"
   ]
  },
  {
   "cell_type": "code",
   "execution_count": null,
   "id": "6ae1b659",
   "metadata": {},
   "outputs": [],
   "source": [
    "# FALSE is from perspective of our negative class\n",
    "# TRUE is from perspective of our positive class\n",
    "# THis is when our threshold is 0.5\n",
    "# Print classification report\n",
    "print(classification_report(y_test,model.predict(X_test)))"
   ]
  },
  {
   "cell_type": "markdown",
   "id": "b4760da3",
   "metadata": {},
   "source": [
    "$$ \\text{precision} = \\frac{\\text{TP}}{TP + FP}$$"
   ]
  },
  {
   "cell_type": "markdown",
   "id": "eb2f8604",
   "metadata": {},
   "source": [
    "$$ \\text{Recall} = \\frac{\\text{TP}}{\\text{TP} + \\text{FN}}. $$"
   ]
  },
  {
   "cell_type": "markdown",
   "id": "80c2b6d9",
   "metadata": {},
   "source": [
    "Precision involves making careful decision. Meaning we will only say rejected when we are very certain. Lower the threshold. \n",
    "\n",
    "\n",
    "\n",
    "Recall involved catching all rejections.Meaning we want to catch as many of the rejection claims as possible. Increase the threshold. \n",
    "\n",
    "\n",
    "**Since, we dont want to tell a patient they will be rejected unless we are VERY certain, we aim to have a high precision score. They can then file claim???**\n",
    "\n",
    "Which is ideal?\n",
    "\n",
    "What do you think is the cost of a False Positive(\\\\$500) and False Negative(\\\\$20)?\n",
    "\n",
    "\n",
    "\n",
    "????\n",
    "If we incorrectly tell patients that they will be rejected(False Positive)--Let us assume it will result a cost of \\\\$ 500 to the patient. We came up with this number as the maximimum amount a patient paid was \\\\$500.\n",
    "\n",
    "If we incorrectly tell patients that they will be accepted(False Negative). We are giving the patients \\\\$20 . This is the median amount paid for those that are accepted. \n"
   ]
  },
  {
   "cell_type": "code",
   "execution_count": null,
   "id": "051533cb",
   "metadata": {},
   "outputs": [],
   "source": [
    "def make_cnf_matrix(threshold):\n",
    "    y_pred_proba = model.predict_proba(X_test)[:,-1]\n",
    "    y_pred = y_pred_proba > threshold\n",
    "    conf_matrix = confusion_matrix(y_test, y_pred)\n",
    "    tn,fp,fn,tp = conf_matrix.ravel()\n",
    "    print(f'Profit: ${tp*500}')\n",
    "    print(f'Losses: ${fp*50} ')\n",
    "    print(f'Precision: {tp/(tp+fp)}')\n",
    "    print(f'Specificity: {tn/(tn+fp)}')\n",
    "    print(f'Recall: {tp/(tp+fn)}')\n",
    "    ConfusionMatrixDisplay.from_predictions \\\n",
    "    (y_test,y_pred,colorbar=False)\n",
    "\n",
    "\n",
    "#The user will put the value in here. \n",
    "thresh_widget = widgets.FloatSlider(min=0, \\\n",
    "max=1 , value=0.5 , step=0.05)\n",
    "\n",
    "#This is where the input will be set in to the passed to the function\n",
    "interact(make_cnf_matrix, threshold=thresh_widget);"
   ]
  },
  {
   "cell_type": "markdown",
   "id": "f1acd3af",
   "metadata": {},
   "source": [
    "## SAVE MODEL"
   ]
  },
  {
   "cell_type": "code",
   "execution_count": null,
   "id": "f4d5512d",
   "metadata": {},
   "outputs": [],
   "source": [
    "# TO avoid retraining our model everytime we can save it \n",
    "# Save model\n",
    "with open('model-gradientboost.pkl','wb') as f:\n",
    "    pickle.dump(model,f)"
   ]
  },
  {
   "cell_type": "markdown",
   "id": "3ac32417",
   "metadata": {},
   "source": [
    "We can create also create module then use it to make predictions after doing all the transformations that has been done. "
   ]
  },
  {
   "cell_type": "code",
   "execution_count": null,
   "id": "9e33c078",
   "metadata": {},
   "outputs": [],
   "source": []
  },
  {
   "cell_type": "code",
   "execution_count": null,
   "id": "06022c7c",
   "metadata": {},
   "outputs": [],
   "source": []
  },
  {
   "cell_type": "code",
   "execution_count": null,
   "id": "c1fb66d6",
   "metadata": {},
   "outputs": [],
   "source": []
  },
  {
   "cell_type": "code",
   "execution_count": null,
   "id": "65422ed1",
   "metadata": {},
   "outputs": [],
   "source": []
  },
  {
   "cell_type": "markdown",
   "id": "1dbb1381",
   "metadata": {},
   "source": [
    "# XGB MODEL"
   ]
  },
  {
   "cell_type": "code",
   "execution_count": 98,
   "id": "8d724dea",
   "metadata": {},
   "outputs": [],
   "source": [
    "from sklearn.model_selection import GridSearchCV\n",
    "import xgboost as xgb\n",
    "from xgboost.sklearn import XGBClassifier"
   ]
  },
  {
   "cell_type": "code",
   "execution_count": 99,
   "id": "32c04258",
   "metadata": {},
   "outputs": [],
   "source": [
    "# conda install xgboost"
   ]
  },
  {
   "cell_type": "markdown",
   "id": "af7e0d30",
   "metadata": {},
   "source": [
    "### Train -Test Split"
   ]
  },
  {
   "cell_type": "code",
   "execution_count": 100,
   "id": "34195ff3",
   "metadata": {},
   "outputs": [],
   "source": [
    "target = \"rejected\"\n",
    "# our target variable\n",
    "y1 = df1[target]"
   ]
  },
  {
   "cell_type": "code",
   "execution_count": 101,
   "id": "a40ee0de",
   "metadata": {},
   "outputs": [],
   "source": [
    "notneeded = ['tx_date','pharmacy','diagnosis','drug','patient_pay','rejected']\n",
    "#features\n",
    "X1 = df1.drop(columns=['tx_date','pharmacy','diagnosis','drug','patient_pay','rejected'])"
   ]
  },
  {
   "cell_type": "code",
   "execution_count": 102,
   "id": "788bb9d3",
   "metadata": {},
   "outputs": [
    {
     "name": "stdout",
     "output_type": "stream",
     "text": [
      "X_train shape: (11128195, 7)\n",
      "y_train shape: (11128195,)\n",
      "X_test shape: (2782049, 7)\n",
      "y_test shape: (2782049,)\n"
     ]
    }
   ],
   "source": [
    "X_train1, X_test1, y_train1, y_test1 = train_test_split( \\\n",
    "X1,y1,test_size=0.2,random_state=42, stratify =y )\n",
    "\n",
    "print(\"X_train shape:\", X_train1.shape)\n",
    "print(\"y_train shape:\", y_train1.shape)\n",
    "print(\"X_test shape:\", X_test1.shape)\n",
    "print(\"y_test shape:\", y_test1.shape)"
   ]
  },
  {
   "cell_type": "markdown",
   "id": "4674aef9",
   "metadata": {},
   "source": [
    "### Resample using oversampling"
   ]
  },
  {
   "cell_type": "code",
   "execution_count": 20,
   "id": "21a6f8f2",
   "metadata": {},
   "outputs": [
    {
     "name": "stdout",
     "output_type": "stream",
     "text": [
      "X_train_over shape: (20517414, 3)\n"
     ]
    }
   ],
   "source": [
    "#oversampling takes too long to train so Under sampling given our computing power\n",
    "over_sampler = RandomOverSampler(random_state=42)\n",
    "X_train_over1, y_train_over1 = over_sampler.fit_resample(X_train1,y_train1)\n",
    "print(\"X_train_over shape:\", X_train_over1.shape)"
   ]
  },
  {
   "cell_type": "code",
   "execution_count": 49,
   "id": "7acb2398",
   "metadata": {},
   "outputs": [
    {
     "name": "stdout",
     "output_type": "stream",
     "text": [
      "<class 'pandas.core.frame.DataFrame'>\n",
      "RangeIndex: 20517414 entries, 0 to 20517413\n",
      "Data columns (total 3 columns):\n",
      " #   Column  Dtype \n",
      "---  ------  ----- \n",
      " 0   bin     int64 \n",
      " 1   pcn     object\n",
      " 2   group   object\n",
      "dtypes: int64(1), object(2)\n",
      "memory usage: 469.6+ MB\n"
     ]
    }
   ],
   "source": [
    "X_train_over1.info()"
   ]
  },
  {
   "cell_type": "markdown",
   "id": "a239e795",
   "metadata": {},
   "source": [
    "## BASELINE MODEL PREDICTION"
   ]
  },
  {
   "cell_type": "code",
   "execution_count": 21,
   "id": "e263364e",
   "metadata": {},
   "outputs": [
    {
     "name": "stdout",
     "output_type": "stream",
     "text": [
      "Baseline Accuracy is: 0.9219\n"
     ]
    }
   ],
   "source": [
    "acc_baseline = y_train1.value_counts(normalize=True).max()\n",
    "print(\"Baseline Accuracy is:\", round(acc_baseline, 4))"
   ]
  },
  {
   "cell_type": "markdown",
   "id": "073f37cb",
   "metadata": {},
   "source": [
    "## XGB CLASSIFIER"
   ]
  },
  {
   "cell_type": "code",
   "execution_count": 105,
   "id": "c9e0d7f1",
   "metadata": {},
   "outputs": [],
   "source": [
    "# we are using ordinal encoder here-- may be there are better ways to approach it?\n",
    "clf1 = make_pipeline(OneHotEncoder(),XGBClassifier())"
   ]
  },
  {
   "cell_type": "code",
   "execution_count": 106,
   "id": "8239703f",
   "metadata": {},
   "outputs": [],
   "source": [
    "# specify the parameters you want to search\n",
    "parameters = {\n",
    "    # \"xgbclassifier__learning_rate\": [0.1, 0.2, 0.3],\n",
    "    \"xgbclassifier__n_estimators\": range(20, 31, 5),\n",
    "    \"xgbclassifier__max_depth\": [3, 4, 5]\n",
    "}"
   ]
  },
  {
   "cell_type": "code",
   "execution_count": 107,
   "id": "5417f712",
   "metadata": {},
   "outputs": [],
   "source": [
    "#use Gridsearch \n",
    "model1 = GridSearchCV(clf1, param_grid=parameters, cv=5,n_jobs=-1, verbose=1)"
   ]
  },
  {
   "cell_type": "code",
   "execution_count": null,
   "id": "ebb324cd",
   "metadata": {},
   "outputs": [
    {
     "name": "stdout",
     "output_type": "stream",
     "text": [
      "Fitting 5 folds for each of 9 candidates, totalling 45 fits\n"
     ]
    }
   ],
   "source": [
    "# train model on oversampled data\n",
    "# Fit model to over-sampled training data\n",
    "model1.fit(X_train_over1,y_train_over1)"
   ]
  },
  {
   "cell_type": "code",
   "execution_count": null,
   "id": "12152261",
   "metadata": {},
   "outputs": [],
   "source": []
  },
  {
   "cell_type": "code",
   "execution_count": null,
   "id": "41e67fca",
   "metadata": {},
   "outputs": [],
   "source": []
  }
 ],
 "metadata": {
  "kernelspec": {
   "display_name": "Python 3 (ipykernel)",
   "language": "python",
   "name": "python3"
  },
  "language_info": {
   "codemirror_mode": {
    "name": "ipython",
    "version": 3
   },
   "file_extension": ".py",
   "mimetype": "text/x-python",
   "name": "python",
   "nbconvert_exporter": "python",
   "pygments_lexer": "ipython3",
   "version": "3.9.12"
  }
 },
 "nbformat": 4,
 "nbformat_minor": 5
}
