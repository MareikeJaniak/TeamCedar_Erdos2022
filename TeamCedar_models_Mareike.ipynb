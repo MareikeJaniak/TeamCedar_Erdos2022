{
 "cells": [
  {
   "cell_type": "code",
   "execution_count": 100,
   "id": "a3a64404",
   "metadata": {},
   "outputs": [],
   "source": [
    "import pandas as pd\n",
    "import seaborn as sns\n",
    "import numpy as np\n",
    "import matplotlib.pyplot as plt\n",
    "from sklearn.model_selection import train_test_split\n",
    "from sklearn.linear_model import LinearRegression\n",
    "import xgboost\n",
    "from xgboost import XGBClassifier\n",
    "from sklearn.metrics import roc_auc_score\n",
    "from sklearn.metrics import confusion_matrix\n",
    "from sklearn import metrics\n",
    "from sklearn.model_selection import GridSearchCV"
   ]
  },
  {
   "cell_type": "code",
   "execution_count": 4,
   "id": "80010c47",
   "metadata": {},
   "outputs": [],
   "source": [
    "rx = pd.read_csv(\"./data/pharmacy_tx.csv\")"
   ]
  },
  {
   "cell_type": "code",
   "execution_count": 5,
   "id": "584b78f1",
   "metadata": {},
   "outputs": [],
   "source": [
    "rx[[\"drug_type\",\"drug_name\"]] = rx['drug'].str.split(\" \",expand=True)"
   ]
  },
  {
   "cell_type": "markdown",
   "id": "47dab852",
   "metadata": {},
   "source": [
    "### Acceptance/Rejection"
   ]
  },
  {
   "cell_type": "code",
   "execution_count": 6,
   "id": "baf8e8f7",
   "metadata": {},
   "outputs": [],
   "source": [
    "## Make the train test split for all transactions (when looking to predict acceptance/rejection)\n",
    "rx_train, rx_test = train_test_split(rx.copy(), \n",
    "                                            shuffle=True,\n",
    "                                            random_state=614,\n",
    "                                            test_size=.2, \n",
    "                                            stratify=rx.rejected)"
   ]
  },
  {
   "cell_type": "markdown",
   "id": "7f8960c4",
   "metadata": {},
   "source": [
    "Drop columns that we do not want to include in model:"
   ]
  },
  {
   "cell_type": "code",
   "execution_count": 9,
   "id": "9d0104d1",
   "metadata": {},
   "outputs": [],
   "source": [
    "X = rx_train.drop([\"tx_date\", \"drug\", \"rejected\", \"patient_pay\", \"bin\", \"pcn\", \"group\", \"pharmacy\"], axis = 1)\n",
    "y = rx_train[\"rejected\"]"
   ]
  },
  {
   "cell_type": "code",
   "execution_count": 10,
   "id": "6c184bab",
   "metadata": {},
   "outputs": [
    {
     "data": {
      "text/html": [
       "<div>\n",
       "<style scoped>\n",
       "    .dataframe tbody tr th:only-of-type {\n",
       "        vertical-align: middle;\n",
       "    }\n",
       "\n",
       "    .dataframe tbody tr th {\n",
       "        vertical-align: top;\n",
       "    }\n",
       "\n",
       "    .dataframe thead th {\n",
       "        text-align: right;\n",
       "    }\n",
       "</style>\n",
       "<table border=\"1\" class=\"dataframe\">\n",
       "  <thead>\n",
       "    <tr style=\"text-align: right;\">\n",
       "      <th></th>\n",
       "      <th>diagnosis</th>\n",
       "      <th>drug_type</th>\n",
       "      <th>drug_name</th>\n",
       "    </tr>\n",
       "  </thead>\n",
       "  <tbody>\n",
       "    <tr>\n",
       "      <th>2473692</th>\n",
       "      <td>M06.85</td>\n",
       "      <td>branded</td>\n",
       "      <td>nephelilin</td>\n",
       "    </tr>\n",
       "    <tr>\n",
       "      <th>12640130</th>\n",
       "      <td>G51.87</td>\n",
       "      <td>branded</td>\n",
       "      <td>prazinib</td>\n",
       "    </tr>\n",
       "    <tr>\n",
       "      <th>7240681</th>\n",
       "      <td>W50.87</td>\n",
       "      <td>branded</td>\n",
       "      <td>lalol</td>\n",
       "    </tr>\n",
       "    <tr>\n",
       "      <th>10012311</th>\n",
       "      <td>U06.52</td>\n",
       "      <td>generic</td>\n",
       "      <td>ratin</td>\n",
       "    </tr>\n",
       "    <tr>\n",
       "      <th>6397300</th>\n",
       "      <td>I68.27</td>\n",
       "      <td>branded</td>\n",
       "      <td>prazinib</td>\n",
       "    </tr>\n",
       "  </tbody>\n",
       "</table>\n",
       "</div>"
      ],
      "text/plain": [
       "         diagnosis drug_type   drug_name\n",
       "2473692     M06.85   branded  nephelilin\n",
       "12640130    G51.87   branded    prazinib\n",
       "7240681     W50.87   branded       lalol\n",
       "10012311    U06.52   generic       ratin\n",
       "6397300     I68.27   branded    prazinib"
      ]
     },
     "execution_count": 10,
     "metadata": {},
     "output_type": "execute_result"
    }
   ],
   "source": [
    "X.head()"
   ]
  },
  {
   "cell_type": "code",
   "execution_count": 11,
   "id": "8a90ea49",
   "metadata": {},
   "outputs": [],
   "source": [
    "X[\"diagnosis\"] = X[\"diagnosis\"].astype(\"category\")\n",
    "X[\"drug_type\"] = X[\"drug_type\"].astype(\"category\")\n",
    "X[\"drug_name\"] = X[\"drug_name\"].astype(\"category\")"
   ]
  },
  {
   "cell_type": "code",
   "execution_count": 12,
   "id": "0de42ac6",
   "metadata": {},
   "outputs": [],
   "source": [
    "X_train, X_test, y_train, y_test = train_test_split(\n",
    "                                    X, y, random_state=1994, test_size=0.2)"
   ]
  },
  {
   "cell_type": "code",
   "execution_count": 13,
   "id": "d76a2457",
   "metadata": {},
   "outputs": [
    {
     "name": "stdout",
     "output_type": "stream",
     "text": [
      "False    0.921923\n",
      "True     0.078077\n",
      "Name: rejected, dtype: float64\n",
      "False    0.921639\n",
      "True     0.078361\n",
      "Name: rejected, dtype: float64\n"
     ]
    }
   ],
   "source": [
    "print(y_train.value_counts(normalize=True))\n",
    "print(y_test.value_counts(normalize=True))"
   ]
  },
  {
   "cell_type": "code",
   "execution_count": 102,
   "id": "19f62a2f",
   "metadata": {},
   "outputs": [
    {
     "name": "stdout",
     "output_type": "stream",
     "text": [
      "[0]\tvalidation_0-auc:0.89045\tvalidation_1-auc:0.89100\n",
      "[1]\tvalidation_0-auc:0.89047\tvalidation_1-auc:0.89102\n",
      "[2]\tvalidation_0-auc:0.89048\tvalidation_1-auc:0.89103\n",
      "[3]\tvalidation_0-auc:0.89048\tvalidation_1-auc:0.89104\n",
      "[4]\tvalidation_0-auc:0.89048\tvalidation_1-auc:0.89105\n",
      "[5]\tvalidation_0-auc:0.89049\tvalidation_1-auc:0.89105\n",
      "[6]\tvalidation_0-auc:0.89049\tvalidation_1-auc:0.89105\n",
      "[7]\tvalidation_0-auc:0.89052\tvalidation_1-auc:0.89109\n",
      "[8]\tvalidation_0-auc:0.89052\tvalidation_1-auc:0.89109\n",
      "[9]\tvalidation_0-auc:0.89052\tvalidation_1-auc:0.89109\n",
      "[10]\tvalidation_0-auc:0.89053\tvalidation_1-auc:0.89110\n",
      "[11]\tvalidation_0-auc:0.89052\tvalidation_1-auc:0.89110\n",
      "[12]\tvalidation_0-auc:0.89052\tvalidation_1-auc:0.89110\n",
      "[13]\tvalidation_0-auc:0.89051\tvalidation_1-auc:0.89110\n",
      "[14]\tvalidation_0-auc:0.89051\tvalidation_1-auc:0.89110\n",
      "[15]\tvalidation_0-auc:0.89051\tvalidation_1-auc:0.89110\n",
      "[16]\tvalidation_0-auc:0.89051\tvalidation_1-auc:0.89111\n",
      "[17]\tvalidation_0-auc:0.89051\tvalidation_1-auc:0.89111\n",
      "[18]\tvalidation_0-auc:0.89051\tvalidation_1-auc:0.89111\n",
      "[19]\tvalidation_0-auc:0.89050\tvalidation_1-auc:0.89111\n",
      "[20]\tvalidation_0-auc:0.89050\tvalidation_1-auc:0.89111\n",
      "[21]\tvalidation_0-auc:0.89050\tvalidation_1-auc:0.89111\n",
      "[22]\tvalidation_0-auc:0.89051\tvalidation_1-auc:0.89111\n",
      "[23]\tvalidation_0-auc:0.89051\tvalidation_1-auc:0.89111\n",
      "[24]\tvalidation_0-auc:0.89050\tvalidation_1-auc:0.89111\n",
      "[25]\tvalidation_0-auc:0.89050\tvalidation_1-auc:0.89111\n",
      "[26]\tvalidation_0-auc:0.89050\tvalidation_1-auc:0.89111\n",
      "[27]\tvalidation_0-auc:0.89050\tvalidation_1-auc:0.89111\n",
      "[28]\tvalidation_0-auc:0.89050\tvalidation_1-auc:0.89111\n",
      "[29]\tvalidation_0-auc:0.89050\tvalidation_1-auc:0.89112\n",
      "[30]\tvalidation_0-auc:0.89049\tvalidation_1-auc:0.89112\n",
      "[31]\tvalidation_0-auc:0.89050\tvalidation_1-auc:0.89112\n",
      "[32]\tvalidation_0-auc:0.89050\tvalidation_1-auc:0.89112\n",
      "[33]\tvalidation_0-auc:0.89049\tvalidation_1-auc:0.89112\n",
      "[34]\tvalidation_0-auc:0.89049\tvalidation_1-auc:0.89112\n",
      "[35]\tvalidation_0-auc:0.89048\tvalidation_1-auc:0.89112\n",
      "[36]\tvalidation_0-auc:0.89048\tvalidation_1-auc:0.89112\n",
      "[37]\tvalidation_0-auc:0.89048\tvalidation_1-auc:0.89112\n",
      "[38]\tvalidation_0-auc:0.89048\tvalidation_1-auc:0.89112\n",
      "[39]\tvalidation_0-auc:0.89047\tvalidation_1-auc:0.89112\n",
      "[40]\tvalidation_0-auc:0.89047\tvalidation_1-auc:0.89112\n",
      "[41]\tvalidation_0-auc:0.89047\tvalidation_1-auc:0.89112\n",
      "[42]\tvalidation_0-auc:0.89047\tvalidation_1-auc:0.89112\n",
      "[43]\tvalidation_0-auc:0.89047\tvalidation_1-auc:0.89112\n",
      "[44]\tvalidation_0-auc:0.89046\tvalidation_1-auc:0.89112\n",
      "[45]\tvalidation_0-auc:0.89046\tvalidation_1-auc:0.89112\n",
      "[46]\tvalidation_0-auc:0.89046\tvalidation_1-auc:0.89112\n",
      "[47]\tvalidation_0-auc:0.89046\tvalidation_1-auc:0.89112\n",
      "[48]\tvalidation_0-auc:0.89046\tvalidation_1-auc:0.89112\n",
      "[49]\tvalidation_0-auc:0.89046\tvalidation_1-auc:0.89112\n",
      "[50]\tvalidation_0-auc:0.89046\tvalidation_1-auc:0.89112\n",
      "[51]\tvalidation_0-auc:0.89046\tvalidation_1-auc:0.89112\n",
      "[52]\tvalidation_0-auc:0.89046\tvalidation_1-auc:0.89112\n",
      "[53]\tvalidation_0-auc:0.89046\tvalidation_1-auc:0.89112\n",
      "[54]\tvalidation_0-auc:0.89046\tvalidation_1-auc:0.89112\n",
      "[55]\tvalidation_0-auc:0.89047\tvalidation_1-auc:0.89112\n",
      "[56]\tvalidation_0-auc:0.89047\tvalidation_1-auc:0.89112\n",
      "[57]\tvalidation_0-auc:0.89047\tvalidation_1-auc:0.89112\n",
      "[58]\tvalidation_0-auc:0.89047\tvalidation_1-auc:0.89112\n",
      "[59]\tvalidation_0-auc:0.89047\tvalidation_1-auc:0.89112\n",
      "[60]\tvalidation_0-auc:0.89047\tvalidation_1-auc:0.89112\n",
      "[61]\tvalidation_0-auc:0.89047\tvalidation_1-auc:0.89112\n",
      "[62]\tvalidation_0-auc:0.89047\tvalidation_1-auc:0.89112\n",
      "[63]\tvalidation_0-auc:0.89047\tvalidation_1-auc:0.89112\n",
      "[64]\tvalidation_0-auc:0.89047\tvalidation_1-auc:0.89112\n",
      "[65]\tvalidation_0-auc:0.89047\tvalidation_1-auc:0.89112\n",
      "[66]\tvalidation_0-auc:0.89047\tvalidation_1-auc:0.89112\n",
      "[67]\tvalidation_0-auc:0.89047\tvalidation_1-auc:0.89112\n",
      "[68]\tvalidation_0-auc:0.89047\tvalidation_1-auc:0.89112\n",
      "[69]\tvalidation_0-auc:0.89047\tvalidation_1-auc:0.89112\n",
      "[70]\tvalidation_0-auc:0.89047\tvalidation_1-auc:0.89112\n",
      "[71]\tvalidation_0-auc:0.89047\tvalidation_1-auc:0.89112\n",
      "[72]\tvalidation_0-auc:0.89047\tvalidation_1-auc:0.89113\n",
      "[73]\tvalidation_0-auc:0.89047\tvalidation_1-auc:0.89113\n",
      "[74]\tvalidation_0-auc:0.89047\tvalidation_1-auc:0.89113\n",
      "[75]\tvalidation_0-auc:0.89047\tvalidation_1-auc:0.89113\n",
      "[76]\tvalidation_0-auc:0.89047\tvalidation_1-auc:0.89113\n",
      "[77]\tvalidation_0-auc:0.89047\tvalidation_1-auc:0.89113\n",
      "[78]\tvalidation_0-auc:0.89047\tvalidation_1-auc:0.89113\n",
      "[79]\tvalidation_0-auc:0.89047\tvalidation_1-auc:0.89113\n",
      "[80]\tvalidation_0-auc:0.89047\tvalidation_1-auc:0.89113\n",
      "[81]\tvalidation_0-auc:0.89047\tvalidation_1-auc:0.89113\n",
      "[82]\tvalidation_0-auc:0.89047\tvalidation_1-auc:0.89113\n",
      "[83]\tvalidation_0-auc:0.89047\tvalidation_1-auc:0.89113\n",
      "[84]\tvalidation_0-auc:0.89047\tvalidation_1-auc:0.89113\n",
      "[85]\tvalidation_0-auc:0.89047\tvalidation_1-auc:0.89113\n",
      "[86]\tvalidation_0-auc:0.89047\tvalidation_1-auc:0.89113\n",
      "[87]\tvalidation_0-auc:0.89047\tvalidation_1-auc:0.89113\n",
      "[88]\tvalidation_0-auc:0.89047\tvalidation_1-auc:0.89113\n",
      "[89]\tvalidation_0-auc:0.89047\tvalidation_1-auc:0.89113\n",
      "[90]\tvalidation_0-auc:0.89047\tvalidation_1-auc:0.89113\n",
      "[91]\tvalidation_0-auc:0.89047\tvalidation_1-auc:0.89113\n",
      "[92]\tvalidation_0-auc:0.89047\tvalidation_1-auc:0.89113\n",
      "[93]\tvalidation_0-auc:0.89047\tvalidation_1-auc:0.89113\n",
      "[94]\tvalidation_0-auc:0.89047\tvalidation_1-auc:0.89113\n",
      "[95]\tvalidation_0-auc:0.89047\tvalidation_1-auc:0.89113\n",
      "[96]\tvalidation_0-auc:0.89047\tvalidation_1-auc:0.89113\n",
      "[97]\tvalidation_0-auc:0.89047\tvalidation_1-auc:0.89113\n",
      "[98]\tvalidation_0-auc:0.89047\tvalidation_1-auc:0.89113\n",
      "[99]\tvalidation_0-auc:0.89047\tvalidation_1-auc:0.89113\n"
     ]
    }
   ],
   "source": [
    "# Supported tree methods are `gpu_hist`, `approx`, and `hist`.\n",
    "clf = xgboost.XGBClassifier(tree_method=\"hist\", eval_metric=\"auc\", enable_categorical=True, max_cat_to_onehot=1)\n",
    "\n",
    "# X is the dataframe we created in previous snippet\n",
    "clf.fit(X_train, y_train, eval_set=[(X_test, y_test), (X_train, y_train)])\n",
    "\n",
    "# Must use JSON/UBJSON for serialization, otherwise the information is lost.\n",
    "clf.save_model(\"categorical-model.json\")"
   ]
  },
  {
   "cell_type": "code",
   "execution_count": 103,
   "id": "42071c76",
   "metadata": {},
   "outputs": [
    {
     "name": "stdout",
     "output_type": "stream",
     "text": [
      "AUC of using builtin categorical data support: 0.8904666067087799\n"
     ]
    }
   ],
   "source": [
    "y_score = clf.predict_proba(X_test)[:, 1]  # proba of positive samples\n",
    "auc = roc_auc_score(y_test, y_score)\n",
    "print(\"AUC of using builtin categorical data support:\", auc)"
   ]
  },
  {
   "cell_type": "code",
   "execution_count": 17,
   "id": "dab99210",
   "metadata": {},
   "outputs": [
    {
     "name": "stdout",
     "output_type": "stream",
     "text": [
      "['diagnosis' 'drug_type' 'drug_name']\n",
      "[0.0022659  0.24890755 0.7488265 ]\n"
     ]
    }
   ],
   "source": [
    "#Get feature importances\n",
    "print(clf.feature_names_in_)\n",
    "print(clf.feature_importances_)"
   ]
  },
  {
   "cell_type": "code",
   "execution_count": 125,
   "id": "34720493",
   "metadata": {},
   "outputs": [
    {
     "data": {
      "image/png": "[encoded data removed]",
      "text/plain": [
       "<Figure size 576x360 with 1 Axes>"
      ]
     },
     "metadata": {
      "needs_background": "light"
     },
     "output_type": "display_data"
    }
   ],
   "source": [
    "# plot feature importance\n",
    "plt.figure(figsize=(8,5))\n",
    "plt.bar(clf.feature_names_in_, clf.feature_importances_)\n",
    "plt.xticks(fontsize=20)\n",
    "plt.show()"
   ]
  },
  {
   "cell_type": "code",
   "execution_count": 104,
   "id": "40a9bb1c",
   "metadata": {},
   "outputs": [
    {
     "name": "stdout",
     "output_type": "stream",
     "text": [
      "[[2051230       6]\n",
      " [ 174400       3]]\n",
      "0.9216377858224087\n"
     ]
    }
   ],
   "source": [
    "y_pred = clf.predict(X_test)\n",
    "print(metrics.accuracy_score(y_test, y_pred))"
   ]
  },
  {
   "cell_type": "code",
   "execution_count": 105,
   "id": "afc9183a",
   "metadata": {},
   "outputs": [
    {
     "name": "stdout",
     "output_type": "stream",
     "text": [
      "              precision    recall  f1-score   support\n",
      "\n",
      "       False       0.92      1.00      0.96   2051236\n",
      "        True       0.33      0.00      0.00    174403\n",
      "\n",
      "    accuracy                           0.92   2225639\n",
      "   macro avg       0.63      0.50      0.48   2225639\n",
      "weighted avg       0.88      0.92      0.88   2225639\n",
      "\n"
     ]
    }
   ],
   "source": [
    "print(metrics.classification_report(y_test, y_pred))"
   ]
  },
  {
   "cell_type": "code",
   "execution_count": 106,
   "id": "5868fed4",
   "metadata": {},
   "outputs": [
    {
     "data": {
      "image/png": "[encoded data removed]",
      "text/plain": [
       "<Figure size 432x288 with 2 Axes>"
      ]
     },
     "metadata": {
      "needs_background": "light"
     },
     "output_type": "display_data"
    }
   ],
   "source": [
    "# confusion matrix at default 0.5 threshold\n",
    "disp = metrics.ConfusionMatrixDisplay(confusion_matrix(y_test, y_pred), display_labels=clf.classes_)\n",
    "disp.plot()\n",
    "plt.show()"
   ]
  },
  {
   "cell_type": "code",
   "execution_count": 39,
   "id": "b61791ac",
   "metadata": {},
   "outputs": [],
   "source": [
    "from sklearn.metrics import roc_curve, precision_recall_curve, accuracy_score"
   ]
  },
  {
   "cell_type": "code",
   "execution_count": 40,
   "id": "669cfc02",
   "metadata": {},
   "outputs": [],
   "source": [
    "# from https://amirhessam88.github.io/finding-thresholds/\n",
    "def _threshold_finder(model, X, y_true):\n",
    "    \"\"\"\n",
    "    a function to find the optimal threshold for binary classification\n",
    "    model: a trained model object (such as xgboost, glmnet, ...)\n",
    "    X: the test set of features (pandas dataframe or numpy array)\n",
    "    y_true: the true class labels (list or array of 0's and 1's)    \n",
    "    \"\"\"\n",
    "    \n",
    "    y_predict_proba = model.predict_proba(X)[:, 1]\n",
    "    fpr, tpr, thresholds = roc_curve(y_true, y_predict_proba)\n",
    "    auc = roc_auc_score(y_true, y_predict_proba)\n",
    "    precision, recall, thresholds2 = precision_recall_curve(y_true, y_predict_proba)\n",
    "    \n",
    "    class_names = [0, 1]\n",
    "    youden_idx = np.argmax(np.abs(tpr - fpr))\n",
    "    youden_threshold = thresholds[youden_idx]\n",
    "    y_pred_youden = (y_predict_proba > youden_threshold).astype(int)\n",
    "    cnf_matrix = confusion_matrix(y_true, y_pred_youden)\n",
    "    np.set_printoptions(precision=2)\n",
    "    \n",
    "    f1 = []\n",
    "    for i in range(len(precision)):\n",
    "        f1.append(2 * (precision[i] * recall[i]) / (precision[i] + recall[i]))\n",
    "        \n",
    "    queue_rate = []\n",
    "    for thr in thresholds2:\n",
    "        queue_rate.append((y_predict_proba >= thr).mean()) \n",
    "\n",
    "    plt.figure(figsize = (10, 5))\n",
    "    plt.subplot(1,2,1)\n",
    "    plt.plot(fpr, tpr, color = \"red\", label = F\"AUC = {auc:.3f}\")\n",
    "    plt.plot(fpr[youden_idx], tpr[youden_idx], marker = \"o\", color = \"navy\", ms =10, label =F\"Youden Threshold = {youden_threshold:.2f}\" )\n",
    "    plt.axvline(x = fpr[youden_idx], ymin = fpr[youden_idx], ymax = tpr[youden_idx], color = \"navy\", ls = \"--\")\n",
    "    plt.plot([0,1], [0,1] , color = \"black\", ls = \"--\")\n",
    "    plt.xlim([-0.01, 1.01])\n",
    "    plt.ylim([-0.01, 1.01])\n",
    "    plt.xlabel('1 - Specificity' , fontsize=12)\n",
    "    plt.ylabel('Sensitivity' , fontsize=12)\n",
    "    plt.tick_params(axis='both', which='major', labelsize=12)\n",
    "    plt.legend( prop={'size':12} , loc = 4)\n",
    "\n",
    "    plt.subplot(1,2,2)\n",
    "    _plot_confusion_matrix(cnf_matrix, classes=class_names, normalize = False, cmap=plt.cm.Reds, title = F\"Youden Threshold = {youden_threshold:.2f}\\nAccuracy = {accuracy_score(y_true, y_pred_youden)*100:.2f}%\")\n",
    "    plt.show()\n",
    "    \n",
    "    plt.figure(figsize = (12, 5))\n",
    "    plt.subplot(1,2,1)\n",
    "    plt.plot(thresholds, 1-fpr, label = \"1 - Specificity\")\n",
    "    plt.plot(thresholds, tpr, label = \"Sensitivity\")\n",
    "    plt.xlabel(\"Threshold\", fontsize = 12)\n",
    "    plt.ylabel(\"Score\", fontsize = 12)\n",
    "    plt.legend(loc = 0)\n",
    "    plt.xlim([0.025, thresholds[np.argmin(abs(tpr + fpr - 1))]+0.2])\n",
    "    plt.axvline(thresholds[np.argmin(abs(tpr + fpr - 1))], color=\"k\", ls = \"--\")\n",
    "    plt.title(F\"Threshold = {thresholds[np.argmin(abs(tpr + fpr - 1))]:.3f}\", fontsize = 12)\n",
    "    \n",
    "    plt.subplot(1,2,2)\n",
    "    plt.plot(thresholds2, precision[1:], label = \"Precision\")\n",
    "    plt.plot(thresholds2, recall[1:], label = \"Recall\")\n",
    "    plt.plot(thresholds2, f1[1:], label = \"F1-Score\")\n",
    "    plt.plot(thresholds2, queue_rate, label = \"Queue Rate\")\n",
    "    plt.legend(loc = 0)\n",
    "    plt.xlim([0.025, thresholds2[np.argmin(abs(precision-recall))] + 0.2])\n",
    "    plt.xlabel(\"Threshold\", fontsize = 12)\n",
    "    plt.ylabel(\"Score\", fontsize = 12)\n",
    "    plt.axvline(thresholds2[np.argmin(abs(precision-recall))], color=\"k\", ls = \"--\")\n",
    "    plt.title(label = F\"Threshold = {thresholds2[np.argmin(abs(precision-recall))]:.3f}\", fontsize = 12)\n",
    "    plt.show()\n",
    "\n",
    "#*-*-*-*-*-*-*-*-*-*-*-*-*-*-*-*-*-*-*-*-*-*-*-*-*-*-*-*-*-*-*-*-*-*-*-*-*-*-*-*-*-*-*-*-*-*-\n",
    "# Function: Plotting Confusion Matrix\n",
    "def _plot_confusion_matrix(cm, classes,\n",
    "                          normalize=False,\n",
    "                          title='Confusion matrix',\n",
    "                          cmap=plt.cm.Greens):\n",
    "    from sklearn.metrics import precision_score, recall_score, roc_auc_score, accuracy_score, roc_curve, auc, confusion_matrix\n",
    "    import itertools\n",
    "    \"\"\"\n",
    "    This function prints and plots the confusion matrix.\n",
    "    Normalization can be applied by setting `normalize=True`.\n",
    "    \"\"\"\n",
    "    if normalize:\n",
    "        cm = cm.astype('float') / cm.sum(axis=1)[:, np.newaxis]\n",
    "\n",
    "    plt.imshow(cm, interpolation='nearest', cmap=cmap)\n",
    "    plt.title(title, fontsize = 14)\n",
    "    plt.colorbar()\n",
    "    tick_marks = np.arange(len(classes))\n",
    "    plt.xticks(tick_marks, classes)\n",
    "    plt.yticks(tick_marks, classes)\n",
    "\n",
    "    fmt = '.2f' if normalize else 'd'\n",
    "    thresh = cm.max() / 2.\n",
    "    for i, j in itertools.product(range(cm.shape[0]), range(cm.shape[1])):\n",
    "        plt.text(j, i, format(cm[i, j], fmt),\n",
    "                 horizontalalignment=\"center\",\n",
    "                 color=\"black\")\n",
    "\n",
    "    plt.ylabel('True Class', fontsize = 14)\n",
    "    plt.xlabel('Predicted Class', fontsize = 14)\n",
    "\n",
    "    plt.tick_params(axis='both', which='major', labelsize=14)\n",
    "    plt.tight_layout()"
   ]
  },
  {
   "cell_type": "code",
   "execution_count": 41,
   "id": "ce9d26a8",
   "metadata": {},
   "outputs": [
    {
     "data": {
      "image/png": "[encoded data removed]",
      "text/plain": [
       "<Figure size 720x360 with 3 Axes>"
      ]
     },
     "metadata": {
      "needs_background": "light"
     },
     "output_type": "display_data"
    },
    {
     "data": {
      "image/png": "[encoded data removed]",
      "text/plain": [
       "<Figure size 864x360 with 2 Axes>"
      ]
     },
     "metadata": {
      "needs_background": "light"
     },
     "output_type": "display_data"
    }
   ],
   "source": [
    "_threshold_finder(model = clf, X = X_test, y_true = y_test)"
   ]
  },
  {
   "cell_type": "code",
   "execution_count": 86,
   "id": "ac76bdfc",
   "metadata": {},
   "outputs": [],
   "source": [
    "import ipywidgets as widgets\n",
    "from ipywidgets import interact #interactive dashboard\n",
    "from sklearn.metrics import ConfusionMatrixDisplay"
   ]
  },
  {
   "cell_type": "code",
   "execution_count": 88,
   "id": "dc7691ba",
   "metadata": {},
   "outputs": [
    {
     "data": {
      "application/vnd.jupyter.widget-view+json": {
       "model_id": "e147195bfce24ac5b1550fb84dfb4335",
       "version_major": 2,
       "version_minor": 0
      },
      "text/plain": [
       "interactive(children=(FloatSlider(value=0.5, description='threshold', max=1.0, step=0.01), Output()), _dom_cla…"
      ]
     },
     "metadata": {},
     "output_type": "display_data"
    }
   ],
   "source": [
    "def make_cnf_matrix(threshold):\n",
    "    y_pred_proba = clf.predict_proba(X_test)[:,-1]\n",
    "    y_pred = y_pred_proba > threshold\n",
    "    conf_matrix = confusion_matrix(y_test, y_pred)\n",
    "    tn,fp,fn,tp = conf_matrix.ravel()\n",
    "    print(f'Precision: {tp/(tp+fp)}')\n",
    "    print(f'Specificity: {tn/(tn+fp)}')\n",
    "    print(f'Recall: {tp/(tp+fn)}')\n",
    "    ConfusionMatrixDisplay.from_predictions \\\n",
    "    (y_test,y_pred,colorbar=False)\n",
    "\n",
    "\n",
    "#The user will put the value in here. \n",
    "thresh_widget = widgets.FloatSlider(min=0, \\\n",
    "max=1 , value=0.5 , step=0.01)\n",
    "\n",
    "#This is where the input will be set in to the passed to the function\n",
    "interact(make_cnf_matrix, threshold=thresh_widget);\n"
   ]
  },
  {
   "cell_type": "code",
   "execution_count": 67,
   "id": "752b9268",
   "metadata": {},
   "outputs": [
    {
     "data": {
      "text/html": [
       "<div>\n",
       "<style scoped>\n",
       "    .dataframe tbody tr th:only-of-type {\n",
       "        vertical-align: middle;\n",
       "    }\n",
       "\n",
       "    .dataframe tbody tr th {\n",
       "        vertical-align: top;\n",
       "    }\n",
       "\n",
       "    .dataframe thead th {\n",
       "        text-align: right;\n",
       "    }\n",
       "</style>\n",
       "<table border=\"1\" class=\"dataframe\">\n",
       "  <thead>\n",
       "    <tr style=\"text-align: right;\">\n",
       "      <th></th>\n",
       "      <th>diagnosis</th>\n",
       "      <th>drug_type</th>\n",
       "      <th>drug_name</th>\n",
       "    </tr>\n",
       "  </thead>\n",
       "  <tbody>\n",
       "    <tr>\n",
       "      <th>2335552</th>\n",
       "      <td>I68.27</td>\n",
       "      <td>branded</td>\n",
       "      <td>hidizuzunib</td>\n",
       "    </tr>\n",
       "    <tr>\n",
       "      <th>2043703</th>\n",
       "      <td>I68.27</td>\n",
       "      <td>branded</td>\n",
       "      <td>mule</td>\n",
       "    </tr>\n",
       "    <tr>\n",
       "      <th>5077654</th>\n",
       "      <td>X75.30</td>\n",
       "      <td>branded</td>\n",
       "      <td>nephelilin</td>\n",
       "    </tr>\n",
       "    <tr>\n",
       "      <th>5189669</th>\n",
       "      <td>I68.27</td>\n",
       "      <td>branded</td>\n",
       "      <td>mule</td>\n",
       "    </tr>\n",
       "    <tr>\n",
       "      <th>9874456</th>\n",
       "      <td>I68.27</td>\n",
       "      <td>branded</td>\n",
       "      <td>mule</td>\n",
       "    </tr>\n",
       "    <tr>\n",
       "      <th>...</th>\n",
       "      <td>...</td>\n",
       "      <td>...</td>\n",
       "      <td>...</td>\n",
       "    </tr>\n",
       "    <tr>\n",
       "      <th>3514512</th>\n",
       "      <td>I68.27</td>\n",
       "      <td>branded</td>\n",
       "      <td>mule</td>\n",
       "    </tr>\n",
       "    <tr>\n",
       "      <th>1051621</th>\n",
       "      <td>W50.87</td>\n",
       "      <td>branded</td>\n",
       "      <td>pucomalol</td>\n",
       "    </tr>\n",
       "    <tr>\n",
       "      <th>5693044</th>\n",
       "      <td>I38.43</td>\n",
       "      <td>generic</td>\n",
       "      <td>sorine</td>\n",
       "    </tr>\n",
       "    <tr>\n",
       "      <th>6519361</th>\n",
       "      <td>I68.27</td>\n",
       "      <td>branded</td>\n",
       "      <td>mule</td>\n",
       "    </tr>\n",
       "    <tr>\n",
       "      <th>8932902</th>\n",
       "      <td>U60.52</td>\n",
       "      <td>branded</td>\n",
       "      <td>keglusited</td>\n",
       "    </tr>\n",
       "  </tbody>\n",
       "</table>\n",
       "<p>174400 rows × 3 columns</p>\n",
       "</div>"
      ],
      "text/plain": [
       "        diagnosis drug_type    drug_name\n",
       "2335552    I68.27   branded  hidizuzunib\n",
       "2043703    I68.27   branded         mule\n",
       "5077654    X75.30   branded   nephelilin\n",
       "5189669    I68.27   branded         mule\n",
       "9874456    I68.27   branded         mule\n",
       "...           ...       ...          ...\n",
       "3514512    I68.27   branded         mule\n",
       "1051621    W50.87   branded    pucomalol\n",
       "5693044    I38.43   generic       sorine\n",
       "6519361    I68.27   branded         mule\n",
       "8932902    U60.52   branded   keglusited\n",
       "\n",
       "[174400 rows x 3 columns]"
      ]
     },
     "execution_count": 67,
     "metadata": {},
     "output_type": "execute_result"
    }
   ],
   "source": [
    "# identify false negatives, do they have anything in common we can use to improve the model? TBD\n",
    "\n",
    "fn = np.where(y_test>y_pred)\n",
    "X_test.iloc[fn]"
   ]
  },
  {
   "cell_type": "markdown",
   "id": "0d436c00",
   "metadata": {},
   "source": [
    "### Patient pay"
   ]
  },
  {
   "cell_type": "code",
   "execution_count": 69,
   "id": "27f09f23",
   "metadata": {},
   "outputs": [],
   "source": [
    "rx_accepted = rx[rx[\"rejected\"] == False]"
   ]
  },
  {
   "cell_type": "code",
   "execution_count": 70,
   "id": "722c1250",
   "metadata": {},
   "outputs": [],
   "source": [
    "## Make the train test split for accepted transactions only\n",
    "acc_train, acc_test = train_test_split(rx_accepted.copy(), \n",
    "                                            shuffle=True,\n",
    "                                            random_state=614,\n",
    "                                            test_size=.2)"
   ]
  },
  {
   "cell_type": "code",
   "execution_count": 71,
   "id": "33b7d4d3",
   "metadata": {},
   "outputs": [
    {
     "data": {
      "text/html": [
       "<div>\n",
       "<style scoped>\n",
       "    .dataframe tbody tr th:only-of-type {\n",
       "        vertical-align: middle;\n",
       "    }\n",
       "\n",
       "    .dataframe tbody tr th {\n",
       "        vertical-align: top;\n",
       "    }\n",
       "\n",
       "    .dataframe thead th {\n",
       "        text-align: right;\n",
       "    }\n",
       "</style>\n",
       "<table border=\"1\" class=\"dataframe\">\n",
       "  <thead>\n",
       "    <tr style=\"text-align: right;\">\n",
       "      <th></th>\n",
       "      <th>tx_date</th>\n",
       "      <th>pharmacy</th>\n",
       "      <th>diagnosis</th>\n",
       "      <th>drug</th>\n",
       "      <th>bin</th>\n",
       "      <th>pcn</th>\n",
       "      <th>group</th>\n",
       "      <th>rejected</th>\n",
       "      <th>patient_pay</th>\n",
       "      <th>drug_type</th>\n",
       "      <th>drug_name</th>\n",
       "    </tr>\n",
       "  </thead>\n",
       "  <tbody>\n",
       "    <tr>\n",
       "      <th>10120050</th>\n",
       "      <td>2022-09-29</td>\n",
       "      <td>Pharmacy #26</td>\n",
       "      <td>G99.93</td>\n",
       "      <td>branded hozirol</td>\n",
       "      <td>664344</td>\n",
       "      <td>T17LNK</td>\n",
       "      <td>Z01MLD4I</td>\n",
       "      <td>False</td>\n",
       "      <td>17.44</td>\n",
       "      <td>branded</td>\n",
       "      <td>hozirol</td>\n",
       "    </tr>\n",
       "    <tr>\n",
       "      <th>687578</th>\n",
       "      <td>2022-01-21</td>\n",
       "      <td>Pharmacy #31</td>\n",
       "      <td>G51.87</td>\n",
       "      <td>branded prazinib</td>\n",
       "      <td>725700</td>\n",
       "      <td>NaN</td>\n",
       "      <td>DYGBI610ZY</td>\n",
       "      <td>False</td>\n",
       "      <td>11.22</td>\n",
       "      <td>branded</td>\n",
       "      <td>prazinib</td>\n",
       "    </tr>\n",
       "    <tr>\n",
       "      <th>9300050</th>\n",
       "      <td>2022-09-09</td>\n",
       "      <td>Pharmacy #28</td>\n",
       "      <td>Q85.91</td>\n",
       "      <td>branded plazamiglutic</td>\n",
       "      <td>322463</td>\n",
       "      <td>T52GV</td>\n",
       "      <td>EVD4X5</td>\n",
       "      <td>False</td>\n",
       "      <td>8.21</td>\n",
       "      <td>branded</td>\n",
       "      <td>plazamiglutic</td>\n",
       "    </tr>\n",
       "    <tr>\n",
       "      <th>631063</th>\n",
       "      <td>2022-01-20</td>\n",
       "      <td>Pharmacy #4</td>\n",
       "      <td>H36.57</td>\n",
       "      <td>branded antimab</td>\n",
       "      <td>571569</td>\n",
       "      <td>KB38N</td>\n",
       "      <td>6BYJBW</td>\n",
       "      <td>False</td>\n",
       "      <td>23.26</td>\n",
       "      <td>branded</td>\n",
       "      <td>antimab</td>\n",
       "    </tr>\n",
       "    <tr>\n",
       "      <th>8642802</th>\n",
       "      <td>2022-08-23</td>\n",
       "      <td>Pharmacy #54</td>\n",
       "      <td>K32.86</td>\n",
       "      <td>branded tanoclolol</td>\n",
       "      <td>664344</td>\n",
       "      <td>BIZF</td>\n",
       "      <td>QK6BI1N61</td>\n",
       "      <td>False</td>\n",
       "      <td>11.62</td>\n",
       "      <td>branded</td>\n",
       "      <td>tanoclolol</td>\n",
       "    </tr>\n",
       "  </tbody>\n",
       "</table>\n",
       "</div>"
      ],
      "text/plain": [
       "             tx_date      pharmacy diagnosis                   drug     bin  \\\n",
       "10120050  2022-09-29  Pharmacy #26    G99.93        branded hozirol  664344   \n",
       "687578    2022-01-21  Pharmacy #31    G51.87       branded prazinib  725700   \n",
       "9300050   2022-09-09  Pharmacy #28    Q85.91  branded plazamiglutic  322463   \n",
       "631063    2022-01-20   Pharmacy #4    H36.57        branded antimab  571569   \n",
       "8642802   2022-08-23  Pharmacy #54    K32.86     branded tanoclolol  664344   \n",
       "\n",
       "             pcn       group  rejected  patient_pay drug_type      drug_name  \n",
       "10120050  T17LNK    Z01MLD4I     False        17.44   branded        hozirol  \n",
       "687578       NaN  DYGBI610ZY     False        11.22   branded       prazinib  \n",
       "9300050    T52GV      EVD4X5     False         8.21   branded  plazamiglutic  \n",
       "631063     KB38N      6BYJBW     False        23.26   branded        antimab  \n",
       "8642802     BIZF   QK6BI1N61     False        11.62   branded     tanoclolol  "
      ]
     },
     "execution_count": 71,
     "metadata": {},
     "output_type": "execute_result"
    }
   ],
   "source": [
    "acc_train.head()"
   ]
  },
  {
   "cell_type": "code",
   "execution_count": 74,
   "id": "18028496",
   "metadata": {},
   "outputs": [],
   "source": [
    "Xacc = acc_train.drop([\"tx_date\", \"drug\", \"patient_pay\", \"pharmacy\", \"rejected\"], axis = 1)\n",
    "yacc = acc_train[\"patient_pay\"]"
   ]
  },
  {
   "cell_type": "code",
   "execution_count": 75,
   "id": "a32a02a3",
   "metadata": {},
   "outputs": [
    {
     "data": {
      "text/html": [
       "<div>\n",
       "<style scoped>\n",
       "    .dataframe tbody tr th:only-of-type {\n",
       "        vertical-align: middle;\n",
       "    }\n",
       "\n",
       "    .dataframe tbody tr th {\n",
       "        vertical-align: top;\n",
       "    }\n",
       "\n",
       "    .dataframe thead th {\n",
       "        text-align: right;\n",
       "    }\n",
       "</style>\n",
       "<table border=\"1\" class=\"dataframe\">\n",
       "  <thead>\n",
       "    <tr style=\"text-align: right;\">\n",
       "      <th></th>\n",
       "      <th>diagnosis</th>\n",
       "      <th>bin</th>\n",
       "      <th>pcn</th>\n",
       "      <th>group</th>\n",
       "      <th>drug_type</th>\n",
       "      <th>drug_name</th>\n",
       "    </tr>\n",
       "  </thead>\n",
       "  <tbody>\n",
       "    <tr>\n",
       "      <th>10120050</th>\n",
       "      <td>G99.93</td>\n",
       "      <td>664344</td>\n",
       "      <td>T17LNK</td>\n",
       "      <td>Z01MLD4I</td>\n",
       "      <td>branded</td>\n",
       "      <td>hozirol</td>\n",
       "    </tr>\n",
       "    <tr>\n",
       "      <th>687578</th>\n",
       "      <td>G51.87</td>\n",
       "      <td>725700</td>\n",
       "      <td>NaN</td>\n",
       "      <td>DYGBI610ZY</td>\n",
       "      <td>branded</td>\n",
       "      <td>prazinib</td>\n",
       "    </tr>\n",
       "    <tr>\n",
       "      <th>9300050</th>\n",
       "      <td>Q85.91</td>\n",
       "      <td>322463</td>\n",
       "      <td>T52GV</td>\n",
       "      <td>EVD4X5</td>\n",
       "      <td>branded</td>\n",
       "      <td>plazamiglutic</td>\n",
       "    </tr>\n",
       "    <tr>\n",
       "      <th>631063</th>\n",
       "      <td>H36.57</td>\n",
       "      <td>571569</td>\n",
       "      <td>KB38N</td>\n",
       "      <td>6BYJBW</td>\n",
       "      <td>branded</td>\n",
       "      <td>antimab</td>\n",
       "    </tr>\n",
       "    <tr>\n",
       "      <th>8642802</th>\n",
       "      <td>K32.86</td>\n",
       "      <td>664344</td>\n",
       "      <td>BIZF</td>\n",
       "      <td>QK6BI1N61</td>\n",
       "      <td>branded</td>\n",
       "      <td>tanoclolol</td>\n",
       "    </tr>\n",
       "  </tbody>\n",
       "</table>\n",
       "</div>"
      ],
      "text/plain": [
       "         diagnosis     bin     pcn       group drug_type      drug_name\n",
       "10120050    G99.93  664344  T17LNK    Z01MLD4I   branded        hozirol\n",
       "687578      G51.87  725700     NaN  DYGBI610ZY   branded       prazinib\n",
       "9300050     Q85.91  322463   T52GV      EVD4X5   branded  plazamiglutic\n",
       "631063      H36.57  571569   KB38N      6BYJBW   branded        antimab\n",
       "8642802     K32.86  664344    BIZF   QK6BI1N61   branded     tanoclolol"
      ]
     },
     "execution_count": 75,
     "metadata": {},
     "output_type": "execute_result"
    }
   ],
   "source": [
    "Xacc.head()"
   ]
  },
  {
   "cell_type": "code",
   "execution_count": 76,
   "id": "e2e2aa21",
   "metadata": {},
   "outputs": [],
   "source": [
    "Xacc[\"diagnosis\"] = Xacc[\"diagnosis\"].astype(\"category\")\n",
    "Xacc[\"drug_type\"] = Xacc[\"drug_type\"].astype(\"category\")\n",
    "Xacc[\"drug_name\"] = Xacc[\"drug_name\"].astype(\"category\")\n",
    "Xacc[\"bin\"] = Xacc[\"bin\"].astype(\"category\")\n",
    "Xacc[\"pcn\"] = Xacc[\"pcn\"].astype(\"category\")\n",
    "Xacc[\"group\"] = Xacc[\"group\"].astype(\"category\")"
   ]
  },
  {
   "cell_type": "code",
   "execution_count": 77,
   "id": "6855ab42",
   "metadata": {},
   "outputs": [],
   "source": [
    "Xacc_train, Xacc_test, yacc_train, yacc_test = train_test_split(\n",
    "                                    Xacc, yacc, random_state=22, test_size=0.2)"
   ]
  },
  {
   "cell_type": "code",
   "execution_count": 78,
   "id": "63353a80",
   "metadata": {},
   "outputs": [
    {
     "name": "stdout",
     "output_type": "stream",
     "text": [
      "[0]\tvalidation_0-rmse:34.15527\tvalidation_1-rmse:34.11041\n",
      "[1]\tvalidation_0-rmse:24.66910\tvalidation_1-rmse:24.63213\n",
      "[2]\tvalidation_0-rmse:18.16734\tvalidation_1-rmse:18.13693\n",
      "[3]\tvalidation_0-rmse:13.78243\tvalidation_1-rmse:13.76247\n",
      "[4]\tvalidation_0-rmse:10.90279\tvalidation_1-rmse:10.89037\n",
      "[5]\tvalidation_0-rmse:8.96452\tvalidation_1-rmse:8.95534\n",
      "[6]\tvalidation_0-rmse:7.54340\tvalidation_1-rmse:7.54142\n",
      "[7]\tvalidation_0-rmse:6.73176\tvalidation_1-rmse:6.73096\n",
      "[8]\tvalidation_0-rmse:6.16681\tvalidation_1-rmse:6.17132\n",
      "[9]\tvalidation_0-rmse:5.74314\tvalidation_1-rmse:5.74300\n",
      "[10]\tvalidation_0-rmse:5.48164\tvalidation_1-rmse:5.48349\n",
      "[11]\tvalidation_0-rmse:5.23838\tvalidation_1-rmse:5.24157\n",
      "[12]\tvalidation_0-rmse:5.11101\tvalidation_1-rmse:5.11418\n",
      "[13]\tvalidation_0-rmse:4.85790\tvalidation_1-rmse:4.86153\n",
      "[14]\tvalidation_0-rmse:4.71080\tvalidation_1-rmse:4.71258\n",
      "[15]\tvalidation_0-rmse:4.56564\tvalidation_1-rmse:4.56676\n",
      "[16]\tvalidation_0-rmse:4.42590\tvalidation_1-rmse:4.42346\n",
      "[17]\tvalidation_0-rmse:4.37400\tvalidation_1-rmse:4.37030\n",
      "[18]\tvalidation_0-rmse:4.28090\tvalidation_1-rmse:4.27622\n",
      "[19]\tvalidation_0-rmse:4.18551\tvalidation_1-rmse:4.17961\n",
      "[20]\tvalidation_0-rmse:4.11159\tvalidation_1-rmse:4.10504\n",
      "[21]\tvalidation_0-rmse:3.98921\tvalidation_1-rmse:3.98091\n",
      "[22]\tvalidation_0-rmse:3.91101\tvalidation_1-rmse:3.90054\n",
      "[23]\tvalidation_0-rmse:3.83468\tvalidation_1-rmse:3.82370\n",
      "[24]\tvalidation_0-rmse:3.76224\tvalidation_1-rmse:3.75076\n",
      "[25]\tvalidation_0-rmse:3.69920\tvalidation_1-rmse:3.68724\n",
      "[26]\tvalidation_0-rmse:3.62318\tvalidation_1-rmse:3.61042\n",
      "[27]\tvalidation_0-rmse:3.56353\tvalidation_1-rmse:3.54872\n",
      "[28]\tvalidation_0-rmse:3.51445\tvalidation_1-rmse:3.49846\n",
      "[29]\tvalidation_0-rmse:3.46785\tvalidation_1-rmse:3.45023\n",
      "[30]\tvalidation_0-rmse:3.42806\tvalidation_1-rmse:3.40965\n",
      "[31]\tvalidation_0-rmse:3.38998\tvalidation_1-rmse:3.37108\n",
      "[32]\tvalidation_0-rmse:3.35939\tvalidation_1-rmse:3.34014\n",
      "[33]\tvalidation_0-rmse:3.32211\tvalidation_1-rmse:3.30203\n",
      "[34]\tvalidation_0-rmse:3.29541\tvalidation_1-rmse:3.27482\n",
      "[35]\tvalidation_0-rmse:3.27021\tvalidation_1-rmse:3.24956\n",
      "[36]\tvalidation_0-rmse:3.24210\tvalidation_1-rmse:3.22142\n",
      "[37]\tvalidation_0-rmse:3.21565\tvalidation_1-rmse:3.19561\n",
      "[38]\tvalidation_0-rmse:3.19316\tvalidation_1-rmse:3.17257\n",
      "[39]\tvalidation_0-rmse:3.16830\tvalidation_1-rmse:3.14761\n",
      "[40]\tvalidation_0-rmse:3.15032\tvalidation_1-rmse:3.12845\n",
      "[41]\tvalidation_0-rmse:3.13281\tvalidation_1-rmse:3.11050\n",
      "[42]\tvalidation_0-rmse:3.11656\tvalidation_1-rmse:3.09336\n",
      "[43]\tvalidation_0-rmse:3.09481\tvalidation_1-rmse:3.07135\n",
      "[44]\tvalidation_0-rmse:3.08002\tvalidation_1-rmse:3.05635\n",
      "[45]\tvalidation_0-rmse:3.05814\tvalidation_1-rmse:3.03440\n",
      "[46]\tvalidation_0-rmse:3.04423\tvalidation_1-rmse:3.01989\n",
      "[47]\tvalidation_0-rmse:3.03257\tvalidation_1-rmse:3.00769\n",
      "[48]\tvalidation_0-rmse:3.02136\tvalidation_1-rmse:2.99608\n",
      "[49]\tvalidation_0-rmse:3.01134\tvalidation_1-rmse:2.98620\n",
      "[50]\tvalidation_0-rmse:2.99451\tvalidation_1-rmse:2.96892\n",
      "[51]\tvalidation_0-rmse:2.97881\tvalidation_1-rmse:2.95327\n",
      "[52]\tvalidation_0-rmse:2.96865\tvalidation_1-rmse:2.94293\n",
      "[53]\tvalidation_0-rmse:2.95255\tvalidation_1-rmse:2.92678\n",
      "[54]\tvalidation_0-rmse:2.94334\tvalidation_1-rmse:2.91719\n",
      "[55]\tvalidation_0-rmse:2.93333\tvalidation_1-rmse:2.90725\n",
      "[56]\tvalidation_0-rmse:2.91729\tvalidation_1-rmse:2.89137\n",
      "[57]\tvalidation_0-rmse:2.90486\tvalidation_1-rmse:2.87852\n",
      "[58]\tvalidation_0-rmse:2.89155\tvalidation_1-rmse:2.86500\n",
      "[59]\tvalidation_0-rmse:2.88082\tvalidation_1-rmse:2.85409\n",
      "[60]\tvalidation_0-rmse:2.86733\tvalidation_1-rmse:2.84039\n",
      "[61]\tvalidation_0-rmse:2.85525\tvalidation_1-rmse:2.82835\n",
      "[62]\tvalidation_0-rmse:2.84242\tvalidation_1-rmse:2.81540\n",
      "[63]\tvalidation_0-rmse:2.83047\tvalidation_1-rmse:2.80334\n",
      "[64]\tvalidation_0-rmse:2.82340\tvalidation_1-rmse:2.79636\n",
      "[65]\tvalidation_0-rmse:2.80704\tvalidation_1-rmse:2.77960\n",
      "[66]\tvalidation_0-rmse:2.80019\tvalidation_1-rmse:2.77263\n",
      "[67]\tvalidation_0-rmse:2.78703\tvalidation_1-rmse:2.75926\n",
      "[68]\tvalidation_0-rmse:2.77940\tvalidation_1-rmse:2.75141\n",
      "[69]\tvalidation_0-rmse:2.77088\tvalidation_1-rmse:2.74268\n",
      "[70]\tvalidation_0-rmse:2.76660\tvalidation_1-rmse:2.73836\n",
      "[71]\tvalidation_0-rmse:2.75975\tvalidation_1-rmse:2.73145\n",
      "[72]\tvalidation_0-rmse:2.75552\tvalidation_1-rmse:2.72742\n",
      "[73]\tvalidation_0-rmse:2.75025\tvalidation_1-rmse:2.72206\n",
      "[74]\tvalidation_0-rmse:2.74365\tvalidation_1-rmse:2.71542\n",
      "[75]\tvalidation_0-rmse:2.73931\tvalidation_1-rmse:2.71103\n",
      "[76]\tvalidation_0-rmse:2.73390\tvalidation_1-rmse:2.70568\n",
      "[77]\tvalidation_0-rmse:2.72644\tvalidation_1-rmse:2.69815\n",
      "[78]\tvalidation_0-rmse:2.72251\tvalidation_1-rmse:2.69434\n",
      "[79]\tvalidation_0-rmse:2.71737\tvalidation_1-rmse:2.68919\n",
      "[80]\tvalidation_0-rmse:2.71251\tvalidation_1-rmse:2.68436\n",
      "[81]\tvalidation_0-rmse:2.70779\tvalidation_1-rmse:2.67949\n",
      "[82]\tvalidation_0-rmse:2.70244\tvalidation_1-rmse:2.67407\n",
      "[83]\tvalidation_0-rmse:2.69868\tvalidation_1-rmse:2.67026\n",
      "[84]\tvalidation_0-rmse:2.69656\tvalidation_1-rmse:2.66789\n",
      "[85]\tvalidation_0-rmse:2.69069\tvalidation_1-rmse:2.66213\n",
      "[86]\tvalidation_0-rmse:2.68638\tvalidation_1-rmse:2.65762\n",
      "[87]\tvalidation_0-rmse:2.68349\tvalidation_1-rmse:2.65469\n",
      "[88]\tvalidation_0-rmse:2.68064\tvalidation_1-rmse:2.65180\n",
      "[89]\tvalidation_0-rmse:2.67876\tvalidation_1-rmse:2.64981\n",
      "[90]\tvalidation_0-rmse:2.67785\tvalidation_1-rmse:2.64885\n",
      "[91]\tvalidation_0-rmse:2.67225\tvalidation_1-rmse:2.64324\n",
      "[92]\tvalidation_0-rmse:2.66882\tvalidation_1-rmse:2.63975\n",
      "[93]\tvalidation_0-rmse:2.66653\tvalidation_1-rmse:2.63749\n",
      "[94]\tvalidation_0-rmse:2.66405\tvalidation_1-rmse:2.63503\n",
      "[95]\tvalidation_0-rmse:2.66204\tvalidation_1-rmse:2.63300\n",
      "[96]\tvalidation_0-rmse:2.65843\tvalidation_1-rmse:2.62938\n",
      "[97]\tvalidation_0-rmse:2.65702\tvalidation_1-rmse:2.62800\n",
      "[98]\tvalidation_0-rmse:2.65551\tvalidation_1-rmse:2.62641\n",
      "[99]\tvalidation_0-rmse:2.65178\tvalidation_1-rmse:2.62269\n"
     ]
    }
   ],
   "source": [
    "# Supported tree methods are `gpu_hist`, `approx`, and `hist`.\n",
    "reg_acc = xgboost.XGBRegressor(tree_method=\"hist\", enable_categorical=True, max_cat_to_onehot=1)\n",
    "# X is the dataframe we created in previous snippet\n",
    "reg_acc.fit(Xacc_train, yacc_train, eval_set=[(Xacc_test, yacc_test), (Xacc_train, yacc_train)])\n",
    "# Must use JSON/UBJSON for serialization, otherwise the information is lost.\n",
    "reg_acc.save_model(\"regression-model_pay.json\")"
   ]
  },
  {
   "cell_type": "code",
   "execution_count": 79,
   "id": "d8efb4db",
   "metadata": {},
   "outputs": [
    {
     "name": "stdout",
     "output_type": "stream",
     "text": [
      "['diagnosis' 'bin' 'pcn' 'group' 'drug_type' 'drug_name']\n",
      "[0.01 0.02 0.04 0.23 0.02 0.67]\n"
     ]
    }
   ],
   "source": [
    "# Get feature importances\n",
    "print(reg_acc.feature_names_in_)\n",
    "print(reg_acc.feature_importances_)"
   ]
  },
  {
   "cell_type": "code",
   "execution_count": 128,
   "id": "9cecffc1",
   "metadata": {},
   "outputs": [
    {
     "data": {
      "image/png": "[encoded data removed]",
      "text/plain": [
       "<Figure size 576x432 with 1 Axes>"
      ]
     },
     "metadata": {
      "needs_background": "light"
     },
     "output_type": "display_data"
    }
   ],
   "source": [
    "# plot feature importance\n",
    "plt.figure(figsize=(8,6))\n",
    "plt.bar(reg_acc.feature_names_in_, reg_acc.feature_importances_)\n",
    "plt.xticks(fontsize=12)\n",
    "plt.show()"
   ]
  },
  {
   "cell_type": "code",
   "execution_count": 95,
   "id": "05472ea1",
   "metadata": {},
   "outputs": [],
   "source": [
    "from sklearn.metrics import mean_absolute_error"
   ]
  },
  {
   "cell_type": "code",
   "execution_count": 114,
   "id": "038ea12c",
   "metadata": {},
   "outputs": [],
   "source": [
    "acc_test[\"diagnosis\"] = acc_test[\"diagnosis\"].astype(\"category\")\n",
    "acc_test[\"drug_type\"] = acc_test[\"drug_type\"].astype(\"category\")\n",
    "acc_test[\"drug_name\"] = acc_test[\"drug_name\"].astype(\"category\")\n",
    "acc_test[\"bin\"] = acc_test[\"bin\"].astype(\"category\")\n",
    "acc_test[\"pcn\"] = acc_test[\"pcn\"].astype(\"category\")\n",
    "acc_test[\"group\"] = acc_test[\"group\"].astype(\"category\")"
   ]
  },
  {
   "cell_type": "code",
   "execution_count": 123,
   "id": "815eba42",
   "metadata": {},
   "outputs": [
    {
     "name": "stdout",
     "output_type": "stream",
     "text": [
      "Mean patient pay 26.1\n",
      "Baseline MAE: 21.8\n",
      "Model MAE: 1.17\n"
     ]
    }
   ],
   "source": [
    "y_pred_baseline = acc_test['patient_pay'].mean()*np.ones(len(acc_test))\n",
    "\n",
    "y_pred = reg_acc.predict(acc_test[['diagnosis', 'bin', 'pcn', 'group', 'drug_type', 'drug_name']])\n",
    "\n",
    "#Mean absolute error\n",
    "mae_baseline = mean_absolute_error(acc_test['patient_pay'], y_pred_baseline)\n",
    "mae_reg = mean_absolute_error(acc_test['patient_pay'],y_pred)\n",
    "\n",
    "print(\"Mean patient pay\", round(acc_test['patient_pay'].mean(), 2))\n",
    "print(\"Baseline MAE:\", round(mae_baseline, 2))\n",
    "print(\"Model MAE:\", round(mae_reg, 2))"
   ]
  }
 ],
 "metadata": {
  "kernelspec": {
   "display_name": "Python 3 (ipykernel)",
   "language": "python",
   "name": "python3"
  },
  "language_info": {
   "codemirror_mode": {
    "name": "ipython",
    "version": 3
   },
   "file_extension": ".py",
   "mimetype": "text/x-python",
   "name": "python",
   "nbconvert_exporter": "python",
   "pygments_lexer": "ipython3",
   "version": "3.9.12"
  }
 },
 "nbformat": 4,
 "nbformat_minor": 5
}
